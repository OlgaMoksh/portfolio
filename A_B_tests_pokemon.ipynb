{
 "cells": [
  {
   "cell_type": "markdown",
   "id": "392e48e5",
   "metadata": {},
   "source": [
    "## «Статистическая проверка гипотез для связанных выборок. A/B тесты и как их проводить»</b></h3>\n",
    "ДЗ в рамках курса Нетологии \"Data Scientist: от 0 до middle\""
   ]
  },
  {
   "cell_type": "code",
   "execution_count": 246,
   "id": "8a5b93e0",
   "metadata": {},
   "outputs": [],
   "source": [
    "import numpy as np\n",
    "import pandas as pd\n",
    "import scipy.stats as stats \n",
    "import matplotlib.pyplot as plt  \n",
    "import seaborn as sns"
   ]
  },
  {
   "cell_type": "markdown",
   "id": "551e7e8e",
   "metadata": {},
   "source": [
    "## Задание № 1. Вам даны результаты проверки двух препаратов.\n",
    "\n",
    "Требуется:\n",
    "\n",
    "    Оценить, есть ли различие в эффекте у этих пациентов?\n",
    "    Визуально подтвердить результат\n",
    "\n",
    "A - результаты для группы людей получающих препарат А.\n",
    "\n",
    "B - результаты для другой группы людей, получающих препарат B.\n",
    "\n",
    "**Гипотезы**:\n",
    "\n",
    "- H0 - различия в эффектах от применения препаратов незначительны\n",
    "- H1 - различия в эффектах от применения препаратов значительны"
   ]
  },
  {
   "cell_type": "code",
   "execution_count": 247,
   "id": "ddc0f53f",
   "metadata": {},
   "outputs": [
    {
     "name": "stdout",
     "output_type": "stream",
     "text": [
      "Statistics=0.023, p=0.982\n",
      "Различия в эффектах от применения разных препаратов незначительны (не отвергаем H0)\n"
     ]
    },
    {
     "data": {
      "text/plain": [
       "(0.022710084131950473, 0.9819111298330054)"
      ]
     },
     "execution_count": 247,
     "metadata": {},
     "output_type": "execute_result"
    },
    {
     "data": {
      "image/png": "[encoded data removed]",
      "text/plain": [
       "<Figure size 432x288 with 1 Axes>"
      ]
     },
     "metadata": {
      "needs_background": "light"
     },
     "output_type": "display_data"
    }
   ],
   "source": [
    "#Генерация выборок\n",
    "np.random.seed(11)\n",
    "A = stats.norm.rvs(scale=30, loc=11, size=100)\n",
    "B = stats.norm.rvs(scale=54, loc=11, size=100)\n",
    "\n",
    "statistic, pvalue = stats.ttest_ind(A, B, equal_var = False) # применяем тест Стьюдента для независимых выборок\n",
    "print('Statistics=%.3f, p=%.3f' % (statistic, pvalue))\n",
    "\n",
    "\n",
    "#Интерпретация\n",
    "alpha = 0.05   # Уровень значимости\n",
    "if pvalue > alpha:\n",
    "    print('Различия в эффектах от применения разных препаратов незначительны (не отвергаем H0)')\n",
    "else:\n",
    "    print('Различия в эффектах от применения разных препаратов значительны (отвергаем H0)')\n",
    "\n",
    "#Визуализация\n",
    "plt.hist(B)\n",
    "plt.hist(A)\n",
    "statistic, pvalue"
   ]
  },
  {
   "cell_type": "code",
   "execution_count": 248,
   "id": "91dacd26",
   "metadata": {},
   "outputs": [
    {
     "name": "stdout",
     "output_type": "stream",
     "text": [
      "Statistics=4948.000, p=0.450\n",
      "Одинаковые распределения (не отвергаем H0)\n"
     ]
    }
   ],
   "source": [
    "#Посмотрим, что скажет тест Манна-Уитни\n",
    "from scipy.stats import mannwhitneyu\n",
    "\n",
    "#Сравнение групп\n",
    "stat, p = mannwhitneyu(A, B) # U-тест Манна-Уитни\n",
    "print('Statistics=%.3f, p=%.3f' % (stat, p))\n",
    "\n",
    "# Интерпретация\n",
    "if p > alpha:\n",
    "    print('Одинаковые распределения (не отвергаем H0)')\n",
    "else:\n",
    "    print('Разные распределения (отвергаем H0)')"
   ]
  },
  {
   "cell_type": "markdown",
   "id": "a8c0918b",
   "metadata": {},
   "source": [
    "## Задание № 2. Вам даны результаты проверки двух препаратов.\n",
    "\n",
    "Требуется:\n",
    "\n",
    "    Оценить, есть ли различие в эффекте у этих пациентов?\n",
    "    Визуально подтвердить результат\n",
    "\n",
    "А - группа людей без препарата.\n",
    "\n",
    "B - та же группа людей, но получающая препарат.\n",
    "\n",
    "\n",
    "**Гипотезы**:\n",
    "\n",
    "- H0 - различия в эффекте от применения и неприменения препарата незначительны\n",
    "- H1 - различия в эффекте от применения и неприменения препарата значительны"
   ]
  },
  {
   "cell_type": "code",
   "execution_count": 249,
   "id": "30768db6",
   "metadata": {},
   "outputs": [
    {
     "name": "stdout",
     "output_type": "stream",
     "text": [
      "Statistics=1930.000, p=0.041\n",
      "Различия в эффекте от применения и неприменения препарата значительны (отвергаем H0)\n"
     ]
    },
    {
     "data": {
      "text/plain": [
       "(1930.0, 0.04077572901549266)"
      ]
     },
     "execution_count": 249,
     "metadata": {},
     "output_type": "execute_result"
    },
    {
     "data": {
      "image/png": "[encoded data removed]",
      "text/plain": [
       "<Figure size 432x288 with 1 Axes>"
      ]
     },
     "metadata": {
      "needs_background": "light"
     },
     "output_type": "display_data"
    }
   ],
   "source": [
    "#Генерация выборок\n",
    "np.random.seed(11)\n",
    "C = stats.norm.rvs(scale=30, loc=11, size=100)\n",
    "D = C + stats.norm.rvs(scale=54, loc=11, size=100)\n",
    "\n",
    "statistic, pvalue = wilcoxon(C, D) # применяем тест Уилкоксона для зависимых выборок\n",
    "print('Statistics=%.3f, p=%.3f' % (statistic, pvalue))\n",
    "\n",
    "\n",
    "#Интерпретация\n",
    "if pvalue > alpha:\n",
    "    print('Различия в эффекте от применения и неприменения незначительны (не отвергаем H0)')\n",
    "else:\n",
    "    print('Различия в эффекте от применения и неприменения препарата значительны (отвергаем H0)')\n",
    "\n",
    "\n",
    "\n",
    "#Визуализация\n",
    "plt.hist(D)\n",
    "plt.hist(C)\n",
    "statistic, pvalue"
   ]
  },
  {
   "cell_type": "code",
   "execution_count": 250,
   "id": "be8215f8",
   "metadata": {},
   "outputs": [
    {
     "name": "stdout",
     "output_type": "stream",
     "text": [
      "Statistics=-2.170, p=0.032\n",
      "Различия в эффекте от применения и неприменения препарата значительны (отвергаем H0)\n"
     ]
    }
   ],
   "source": [
    "#Посмотрим, что скажет тест Стьюдента для зависимых выборок\n",
    "statistic, pvalue = stats.ttest_rel(C, D) # применяем тест Стьюдента для зависимых выборок\n",
    "print('Statistics=%.3f, p=%.3f' % (statistic, pvalue))\n",
    "\n",
    "\n",
    "#Интерпретация\n",
    "if pvalue > alpha:\n",
    "    print('Различия в эффекте от применения и неприменения незначительны (не отвергаем H0)')\n",
    "else:\n",
    "    print('Различия в эффекте от применения и неприменения препарата значительны (отвергаем H0)')\n"
   ]
  },
  {
   "cell_type": "markdown",
   "id": "5b456471",
   "metadata": {},
   "source": [
    "## Задание № 3. Допустим вы решили устроить дачный эксперимент. \n",
    "   \n",
    "Берем и поливаем одни огурцы водой, другие огурцы водой с удобрением, \n",
    "третью группу огурцов будем поливать минералкой.\n",
    "\n",
    "Используя дисперсионный анализ, сделайте выводы о распредлениях результатов. Есть ли эффект от удобрения \n",
    "по сравнению с минералкой?\n",
    "Помимо результата статистического теста, продемонстрируйте отличия визуально с помощью boxplot или hist\n",
    "\n",
    "\n",
    "**Гипотезы**:\n",
    "\n",
    "- H0 - различия в эффектах от применения разных веществ незначительны\n",
    "- H1 - хотя бы одно вещество дает значимый эффект "
   ]
  },
  {
   "cell_type": "code",
   "execution_count": 251,
   "id": "99ab1b8f",
   "metadata": {},
   "outputs": [
    {
     "name": "stdout",
     "output_type": "stream",
     "text": [
      "12.525963044834192 2.9240047906326866e-05\n",
      "Хотя бы одно вещество дает значимый эффект  (отклоняем H0)\n"
     ]
    }
   ],
   "source": [
    "water = [1,2,3,4,2,4,2,4,5,2,3,4,2,1,3,4,3,2,5,1]\n",
    "nutri = [1,2,4,6,5,6,7,5,4,5,6,7,4,3,5,5,6,5,4,3,5]\n",
    "mineral =[2,1,1,3,2,4,2,4,5,4,3,2,3,2,3,1,3,4,5,1,4]\n",
    "\n",
    "from scipy.stats import f_oneway # импортируем функцию для дисперсионного анализа из библиотеки scipy пакета stats\n",
    "\n",
    "F, pvalue = f_oneway(water, nutri, mineral)  # дисперсионный анализ \n",
    "print(F, pvalue)   # Смотрим на результаты \n",
    "\n",
    "if pvalue > alpha:\n",
    "    print('Различия в эффектах от применения разных веществ незначительны (не отвергаем H0)')\n",
    "else:\n",
    "    print('Хотя бы одно вещество дает значимый эффект  (отклоняем H0)')\n",
    "    \n",
    "    "
   ]
  },
  {
   "cell_type": "code",
   "execution_count": 252,
   "id": "dc7266b9",
   "metadata": {},
   "outputs": [
    {
     "name": "stdout",
     "output_type": "stream",
     "text": [
      "16.5 0.00019741058349609375\n",
      "Разные распределения (отвергаем H0)\n"
     ]
    }
   ],
   "source": [
    "#посмотрим, что скажет критерий Уилкоксона\n",
    "\n",
    "from scipy.stats import wilcoxon \n",
    "stat, p = wilcoxon(nutri, mineral)\n",
    "print(stat, p)\n",
    "\n",
    "if p > alpha:\n",
    "    print('Одинаковые распределения (не отвергаем H0)')\n",
    "else:\n",
    "    print('Разные распределения (отвергаем H0)')\n"
   ]
  },
  {
   "cell_type": "code",
   "execution_count": 253,
   "id": "c1b63f89",
   "metadata": {},
   "outputs": [
    {
     "data": {
      "text/plain": [
       "(array([3., 0., 6., 0., 0., 4., 0., 5., 0., 2.]),\n",
       " array([1. , 1.4, 1.8, 2.2, 2.6, 3. , 3.4, 3.8, 4.2, 4.6, 5. ]),\n",
       " <BarContainer object of 10 artists>)"
      ]
     },
     "execution_count": 253,
     "metadata": {},
     "output_type": "execute_result"
    },
    {
     "data": {
      "image/png": "[encoded data removed]",
      "text/plain": [
       "<Figure size 432x288 with 1 Axes>"
      ]
     },
     "metadata": {
      "needs_background": "light"
     },
     "output_type": "display_data"
    }
   ],
   "source": [
    "#Визуализация\n",
    "df = pd.DataFrame(list(zip(water, nutri, mineral)), columns =[ 'water','nutri', 'mineral']) \n",
    "\n",
    "plt.hist(nutri, color = 'olive')\n",
    "plt.hist(mineral, color = 'cyan')\n",
    "plt.hist(water, color = 'blue')\n",
    "\n"
   ]
  },
  {
   "cell_type": "code",
   "execution_count": 254,
   "id": "645dafba",
   "metadata": {},
   "outputs": [
    {
     "data": {
      "image/png": "[encoded data removed]",
      "text/plain": [
       "<Figure size 432x288 with 1 Axes>"
      ]
     },
     "metadata": {
      "needs_background": "light"
     },
     "output_type": "display_data"
    }
   ],
   "source": [
    "ax = sns.boxplot(data = df, color='#dfb0e8')\n"
   ]
  },
  {
   "cell_type": "markdown",
   "id": "c973aa78",
   "metadata": {},
   "source": [
    "**Исходя из графика, можно сделать вывод, что эффект от удобрения значительнее, чем от воды и минералки. При этом, моэно предположить, что эффекты от минералки и от воды практически не различаются.**"
   ]
  },
  {
   "cell_type": "markdown",
   "id": "a0c10def",
   "metadata": {},
   "source": [
    "## Cookie Cats\n",
    "\n",
    "Cookie Cats - чрезвычайно популярная мобильная игра-головоломка, разработанная Tactile Entertainment. Это классическая игра-головоломка в стиле «соедините три», в которой игрок должен соединять плитки одного цвета, чтобы очистить поле и выиграть уровень. Здесь также есть поющие кошки. "
   ]
  },
  {
   "cell_type": "markdown",
   "id": "93c91866",
   "metadata": {},
   "source": [
    "По мере прохождения уровней игры игроки время от времени сталкиваются с воротами, которые заставляют их ждать нетривиальное количество времени или совершать покупки в приложении, чтобы продолжить. Помимо стимулирования покупок в приложении, эти ворота служат важной цели - дать игрокам вынужденный перерыв в игре, что, как мы надеемся, приведет к увеличению и продлению удовольствия от игры. "
   ]
  },
  {
   "cell_type": "markdown",
   "id": "3ad430af",
   "metadata": {},
   "source": [
    "Но где ставить ворота? Первоначально первые ворота были размещены на уровне 30. В этом проекте вам предлагается проанализировать AB-тест, в котором создатели переместили первые ворота в Cookie Cats с 30 уровня на уровень 40. В частности, вам надо рассмотрим влияние A/B теста на удержание игроков. "
   ]
  },
  {
   "cell_type": "code",
   "execution_count": 255,
   "id": "6506cd41",
   "metadata": {},
   "outputs": [
    {
     "data": {
      "text/html": [
       "<div>\n",
       "<style scoped>\n",
       "    .dataframe tbody tr th:only-of-type {\n",
       "        vertical-align: middle;\n",
       "    }\n",
       "\n",
       "    .dataframe tbody tr th {\n",
       "        vertical-align: top;\n",
       "    }\n",
       "\n",
       "    .dataframe thead th {\n",
       "        text-align: right;\n",
       "    }\n",
       "</style>\n",
       "<table border=\"1\" class=\"dataframe\">\n",
       "  <thead>\n",
       "    <tr style=\"text-align: right;\">\n",
       "      <th></th>\n",
       "      <th>userid</th>\n",
       "      <th>version</th>\n",
       "      <th>sum_gamerounds</th>\n",
       "      <th>retention_1</th>\n",
       "      <th>retention_7</th>\n",
       "    </tr>\n",
       "  </thead>\n",
       "  <tbody>\n",
       "    <tr>\n",
       "      <th>0</th>\n",
       "      <td>116</td>\n",
       "      <td>gate_30</td>\n",
       "      <td>3</td>\n",
       "      <td>False</td>\n",
       "      <td>False</td>\n",
       "    </tr>\n",
       "    <tr>\n",
       "      <th>1</th>\n",
       "      <td>337</td>\n",
       "      <td>gate_30</td>\n",
       "      <td>38</td>\n",
       "      <td>True</td>\n",
       "      <td>False</td>\n",
       "    </tr>\n",
       "    <tr>\n",
       "      <th>2</th>\n",
       "      <td>377</td>\n",
       "      <td>gate_40</td>\n",
       "      <td>165</td>\n",
       "      <td>True</td>\n",
       "      <td>False</td>\n",
       "    </tr>\n",
       "    <tr>\n",
       "      <th>3</th>\n",
       "      <td>483</td>\n",
       "      <td>gate_40</td>\n",
       "      <td>1</td>\n",
       "      <td>False</td>\n",
       "      <td>False</td>\n",
       "    </tr>\n",
       "    <tr>\n",
       "      <th>4</th>\n",
       "      <td>488</td>\n",
       "      <td>gate_40</td>\n",
       "      <td>179</td>\n",
       "      <td>True</td>\n",
       "      <td>True</td>\n",
       "    </tr>\n",
       "  </tbody>\n",
       "</table>\n",
       "</div>"
      ],
      "text/plain": [
       "   userid  version  sum_gamerounds  retention_1  retention_7\n",
       "0     116  gate_30               3        False        False\n",
       "1     337  gate_30              38         True        False\n",
       "2     377  gate_40             165         True        False\n",
       "3     483  gate_40               1        False        False\n",
       "4     488  gate_40             179         True         True"
      ]
     },
     "execution_count": 255,
     "metadata": {},
     "output_type": "execute_result"
    }
   ],
   "source": [
    "cookie_cats = 'https://raw.githubusercontent.com/a-milenkin/datasets_for_t-tests/main/cookie_cats.csv'\n",
    "\n",
    "data = pd.read_csv(cookie_cats, error_bad_lines=False)  # Откроем датасет\n",
    "data.head()"
   ]
  },
  {
   "cell_type": "markdown",
   "id": "5b13d644",
   "metadata": {},
   "source": [
    "**Данные получены от 90 189 игроков, которые установили игру во время проведения AB-теста. Переменные:**\n",
    "\n",
    "* `userid` - уникальный номер, идентифицирующий каждого игрока.\n",
    "\n",
    "* `version` - был ли игрок помещен в контрольную группу (gate_30 - ворота на уровне 30) или в тестовую группу (gate_40 - ворота на уровне 40).\n",
    "\n",
    "* `sum_gamerounds` - количество игровых раундов, сыгранных игроком в течение первой недели после установки\n",
    "* `retention_1` - проигрыватель вернулся и поиграл через 1 день после установки?\n",
    "* `retention_7` - проигрыватель вернулся и играл через 7 дней после установки?\n",
    "\n",
    "Когда игрок устанавливал игру, ему случайным образом назначали `gate_30` или `gate_40`."
   ]
  },
  {
   "cell_type": "markdown",
   "id": "a7a8eb44",
   "metadata": {},
   "source": [
    "**Задание: провести анализ данных и сделать выводы о лучшем месте для установки ворот.**\n",
    "\n",
    "*Замечание:*\n",
    "приведенных вспомогательных фрагментов кода не хватает для ответа на вопрос. \n",
    "Делать выводы необходимо опираясь на статистические тесты, разобранные в лекции. \n"
   ]
  },
  {
   "cell_type": "code",
   "execution_count": 256,
   "id": "29c45598",
   "metadata": {},
   "outputs": [
    {
     "data": {
      "text/html": [
       "<div>\n",
       "<style scoped>\n",
       "    .dataframe tbody tr th:only-of-type {\n",
       "        vertical-align: middle;\n",
       "    }\n",
       "\n",
       "    .dataframe tbody tr th {\n",
       "        vertical-align: top;\n",
       "    }\n",
       "\n",
       "    .dataframe thead th {\n",
       "        text-align: right;\n",
       "    }\n",
       "</style>\n",
       "<table border=\"1\" class=\"dataframe\">\n",
       "  <thead>\n",
       "    <tr style=\"text-align: right;\">\n",
       "      <th></th>\n",
       "      <th>userid</th>\n",
       "      <th>sum_gamerounds</th>\n",
       "      <th>retention_1</th>\n",
       "      <th>retention_7</th>\n",
       "    </tr>\n",
       "    <tr>\n",
       "      <th>version</th>\n",
       "      <th></th>\n",
       "      <th></th>\n",
       "      <th></th>\n",
       "      <th></th>\n",
       "    </tr>\n",
       "  </thead>\n",
       "  <tbody>\n",
       "    <tr>\n",
       "      <th>gate_30</th>\n",
       "      <td>222944098441</td>\n",
       "      <td>2344795</td>\n",
       "      <td>20034</td>\n",
       "      <td>8502</td>\n",
       "    </tr>\n",
       "    <tr>\n",
       "      <th>gate_40</th>\n",
       "      <td>227857702576</td>\n",
       "      <td>2333530</td>\n",
       "      <td>20119</td>\n",
       "      <td>8279</td>\n",
       "    </tr>\n",
       "  </tbody>\n",
       "</table>\n",
       "</div>"
      ],
      "text/plain": [
       "               userid  sum_gamerounds  retention_1  retention_7\n",
       "version                                                        \n",
       "gate_30  222944098441         2344795        20034         8502\n",
       "gate_40  227857702576         2333530        20119         8279"
      ]
     },
     "execution_count": 256,
     "metadata": {},
     "output_type": "execute_result"
    }
   ],
   "source": [
    "#Сгрупируем результаты теста по версиям игры.\n",
    "data.groupby('version').sum()"
   ]
  },
  {
   "cell_type": "code",
   "execution_count": 257,
   "id": "c93c8a8d",
   "metadata": {},
   "outputs": [
    {
     "data": {
      "text/html": [
       "<div>\n",
       "<style scoped>\n",
       "    .dataframe tbody tr th:only-of-type {\n",
       "        vertical-align: middle;\n",
       "    }\n",
       "\n",
       "    .dataframe tbody tr th {\n",
       "        vertical-align: top;\n",
       "    }\n",
       "\n",
       "    .dataframe thead th {\n",
       "        text-align: right;\n",
       "    }\n",
       "</style>\n",
       "<table border=\"1\" class=\"dataframe\">\n",
       "  <thead>\n",
       "    <tr style=\"text-align: right;\">\n",
       "      <th></th>\n",
       "      <th>userid</th>\n",
       "      <th>sum_gamerounds</th>\n",
       "      <th>retention_1</th>\n",
       "      <th>retention_7</th>\n",
       "    </tr>\n",
       "    <tr>\n",
       "      <th>version</th>\n",
       "      <th></th>\n",
       "      <th></th>\n",
       "      <th></th>\n",
       "      <th></th>\n",
       "    </tr>\n",
       "  </thead>\n",
       "  <tbody>\n",
       "    <tr>\n",
       "      <th>gate_30</th>\n",
       "      <td>44700</td>\n",
       "      <td>44700</td>\n",
       "      <td>44700</td>\n",
       "      <td>44700</td>\n",
       "    </tr>\n",
       "    <tr>\n",
       "      <th>gate_40</th>\n",
       "      <td>45489</td>\n",
       "      <td>45489</td>\n",
       "      <td>45489</td>\n",
       "      <td>45489</td>\n",
       "    </tr>\n",
       "  </tbody>\n",
       "</table>\n",
       "</div>"
      ],
      "text/plain": [
       "         userid  sum_gamerounds  retention_1  retention_7\n",
       "version                                                  \n",
       "gate_30   44700           44700        44700        44700\n",
       "gate_40   45489           45489        45489        45489"
      ]
     },
     "execution_count": 257,
     "metadata": {},
     "output_type": "execute_result"
    }
   ],
   "source": [
    "data.groupby('version').count()"
   ]
  },
  {
   "cell_type": "markdown",
   "id": "0e32c710",
   "metadata": {},
   "source": [
    "**Игроки, которым установили ворота на уровне 30, чаще возвращались к игре через 7 дней после установки и в течение первой недели после установки. Однако игроки, которым установили ворота на уровне 40, чуть чаще возвращались к игре через 1 день после установки и в общем сыграли чуть больше раундов.**"
   ]
  },
  {
   "cell_type": "code",
   "execution_count": 16,
   "id": "27229c92",
   "metadata": {},
   "outputs": [
    {
     "data": {
      "image/png": "[encoded data removed]",
      "text/plain": [
       "<Figure size 1080x720 with 1 Axes>"
      ]
     },
     "metadata": {
      "needs_background": "light"
     },
     "output_type": "display_data"
    }
   ],
   "source": [
    "v_30 = data.loc[data.version == 'gate_30']\n",
    "v_40 = data.loc[data.version == 'gate_40']\n",
    "v_30 = v_30.drop(v_30.loc[v_30.sum_gamerounds > 200].index)\n",
    "v_40 = v_40.drop(v_40.loc[v_40.sum_gamerounds > 200].index)\n",
    "\n",
    "\n",
    "bins = 200\n",
    "plt.figure(figsize=(15, 10))\n",
    "plt.hist(v_30['sum_gamerounds'], bins=bins, alpha=1, edgecolor='black', label='gate 30')\n",
    "plt.hist(v_40['sum_gamerounds'], bins=bins, alpha=0.7, label='gate 40')\n",
    "plt.legend(loc='upper right', bbox_to_anchor=(0.45, 0.35))\n",
    "plt.show()"
   ]
  },
  {
   "cell_type": "markdown",
   "id": "908606ec",
   "metadata": {},
   "source": [
    "**Исходя их графика, можно предположить,что частота игр у игроков, для которых ворота установлены на уровне 30, несколько выше, однако нельзя утверждать однозначно.**"
   ]
  },
  {
   "cell_type": "code",
   "execution_count": 229,
   "id": "ea7b9184",
   "metadata": {},
   "outputs": [
    {
     "data": {
      "image/png": "[encoded data removed]",
      "text/plain": [
       "<Figure size 748.875x360 with 2 Axes>"
      ]
     },
     "metadata": {
      "needs_background": "light"
     },
     "output_type": "display_data"
    }
   ],
   "source": [
    "df = data.loc[data['sum_gamerounds'] < 100].copy();\n",
    "\n",
    "\n",
    "sns.catplot(x=\"version\", y=\"sum_gamerounds\",\n",
    "            hue=\"retention_1\", col = 'retention_7',\n",
    "            data=df, kind=\"box\",\n",
    "            height=5, aspect=.95);\n"
   ]
  },
  {
   "cell_type": "markdown",
   "id": "469db850",
   "metadata": {},
   "source": [
    "**Из данных графиков, кажется, что различия в частоте игр между разными группами игроков несущественны.**"
   ]
  },
  {
   "cell_type": "code",
   "execution_count": 215,
   "id": "ccb0616f",
   "metadata": {},
   "outputs": [
    {
     "data": {
      "text/plain": [
       "<AxesSubplot:ylabel='Density'>"
      ]
     },
     "execution_count": 215,
     "metadata": {},
     "output_type": "execute_result"
    },
    {
     "data": {
      "text/plain": [
       "<Figure size 1080x720 with 0 Axes>"
      ]
     },
     "metadata": {},
     "output_type": "display_data"
    },
    {
     "data": {
      "image/png": "[encoded data removed]",
      "text/plain": [
       "<Figure size 432x288 with 1 Axes>"
      ]
     },
     "metadata": {
      "needs_background": "light"
     },
     "output_type": "display_data"
    }
   ],
   "source": [
    "plt.figure(figsize=(15, 10))\n",
    "\n",
    "boot_1d = []\n",
    "for i in range(1000):\n",
    "    boot_mean = data.sample(frac = 1, replace = True).groupby('version')['retention_7'].mean()  #retention_1\n",
    "    boot_1d.append(boot_mean)\n",
    "    \n",
    "#Преобразование списка в DataFrame\n",
    "boot_1d = pd.DataFrame(boot_1d)\n",
    "    \n",
    "#A Kernel Density Estimate plot of the bootstrap distributions\n",
    "boot_1d.plot(kind='density')"
   ]
  },
  {
   "cell_type": "markdown",
   "id": "d014f8fd",
   "metadata": {},
   "source": [
    "**С помощью метода бутстрап можно наглядно обнаружить, что различия между группами все же статистически значимы.**"
   ]
  },
  {
   "cell_type": "code",
   "execution_count": 258,
   "id": "2ef69a3e",
   "metadata": {},
   "outputs": [
    {
     "name": "stdout",
     "output_type": "stream",
     "text": [
      "Statistics=6.551, p=0.010\n",
      "Различия значительны (отвергаем H0)\n"
     ]
    }
   ],
   "source": [
    "#А теперь посмотрим, что скажут статтесты\n",
    "g_30 = data.query(\"version == 'gate_30' and retention_7 == True\")\n",
    "g_40 = data.query(\"version == 'gate_40' and retention_7 == True\")\n",
    "\n",
    "\n",
    "statistic, pvalue = stats.kruskal(g_30['sum_gamerounds'], g_40['sum_gamerounds']) # H - критерий Краскела-Уоллеса\n",
    "print('Statistics=%.3f, p=%.3f' % (statistic, pvalue))\n",
    "\n",
    "#Интерпретация\n",
    "if pvalue > alpha:\n",
    "    print('Различия незначительны (не отвергаем H0)')\n",
    "else:\n",
    "    print('Различия значительны (отвергаем H0)')"
   ]
  },
  {
   "cell_type": "code",
   "execution_count": 259,
   "id": "797832fa",
   "metadata": {},
   "outputs": [
    {
     "name": "stdout",
     "output_type": "stream",
     "text": [
      "Statistics=1009027049.500, p=0.025\n",
      "Различия значительны (отвергаем H0)\n"
     ]
    }
   ],
   "source": [
    "#посмотрим, что говорит тест Манна-Уитни в общем случае\n",
    "#Сравнение групп\n",
    "stat, p = mannwhitneyu(data[data['version'] == 'gate_30']['sum_gamerounds'], data[data['version'] == 'gate_40']['sum_gamerounds']) # U-тест Манна-Уитни\n",
    "print('Statistics=%.3f, p=%.3f' % (stat, p))\n",
    "\n",
    "# Интерпретация\n",
    "if p > alpha:\n",
    "    print('Различия незначительны (не отвергаем H0)')\n",
    "else:\n",
    "    print('Различия значительны (отвергаем H0)')"
   ]
  },
  {
   "cell_type": "code",
   "execution_count": 260,
   "id": "f80b58d1",
   "metadata": {},
   "outputs": [
    {
     "name": "stdout",
     "output_type": "stream",
     "text": [
      "Различия незначительны (не отвергаем H0)\n"
     ]
    }
   ],
   "source": [
    "#А теперь посмотрим на дисперсионный анализ в общем случае\n",
    "f, p = f_oneway(data[data['version'] == 'gate_30']['sum_gamerounds'], data[data['version'] == 'gate_40']['sum_gamerounds'])\n",
    "\n",
    "# Интерпретация\n",
    "if p > alpha:\n",
    "    print('Различия незначительны (не отвергаем H0)')\n",
    "else:\n",
    "    print('Различия значительны (отвергаем H0)')\n",
    "    "
   ]
  },
  {
   "cell_type": "code",
   "execution_count": 261,
   "id": "e9014a93",
   "metadata": {},
   "outputs": [
    {
     "name": "stdout",
     "output_type": "stream",
     "text": [
      "Различия незначительны (не отвергаем H0)\n"
     ]
    }
   ],
   "source": [
    "#И в случае, когда нас интересуют игроки, которые вернулись спустя 7 дней\n",
    "f, p = f_oneway(g_30['sum_gamerounds'], g_40['sum_gamerounds'])\n",
    "\n",
    "# Интерпретация\n",
    "if p > alpha:\n",
    "    print('Различия незначительны (не отвергаем H0)')\n",
    "else:\n",
    "    print('Различия значительны (отвергаем H0)')"
   ]
  },
  {
   "cell_type": "markdown",
   "id": "4f920a9d",
   "metadata": {},
   "source": [
    "Получается, что в данном примере дисперсионный анализ может обмануть"
   ]
  },
  {
   "cell_type": "markdown",
   "id": "4ec51579",
   "metadata": {},
   "source": [
    "# Покемоны и AB-тестирование "
   ]
  },
  {
   "cell_type": "markdown",
   "id": "39baf584",
   "metadata": {},
   "source": [
    "Покемоны - это маленькие существа, которые сражаются друг с другом на соревнованиях. Все покемоны имеют разные характеристики (сила атаки, защиты и т. д.) И относятся к одному или двум так называемым классам (вода, огонь и т. д.).\n",
    "Профессор Оук является изобретателем Pokedex, портативного устройства, которое хранит информацию обо всех существующих покемонах. Как его ведущий специалист по данным, Вы только что получили от него запрос с просьбой осуществить аналитику данных на всех устройствах Pokedex. \n",
    "\n",
    "## Описание набора данных\n",
    "Профессор Оук скопировал все содержимое память одного устройства Pokedex, в результате чего получился набор данных, с которым Вы будете работать в этой задаче. В этом файле каждая строка представляет характеристики одного покемона:\n",
    "\n",
    "* `pid`: Numeric - ID покемона\n",
    "* `HP`: Numeric - Очки здоровья\n",
    "* `Attack`: Numeric - Сила обычной атаки\n",
    "* `Defense`: Numeric - Сила обычной защиты\n",
    "* `Sp. Atk`: Numeric - Сила специальной атаки\n",
    "* `Sp. Def`: Numeric - Сила специальной защиты\n",
    "* `Speed`: Numeric - Скорость движений\n",
    "* `Legendary`: Boolean - «True», если покемон редкий\n",
    "* `Class 1`: Categorical - Класс покемона\n",
    "* `Class 2`: Categorical - Класс покемона"
   ]
  },
  {
   "cell_type": "code",
   "execution_count": 262,
   "id": "d2b6285a",
   "metadata": {},
   "outputs": [
    {
     "data": {
      "text/html": [
       "<div>\n",
       "<style scoped>\n",
       "    .dataframe tbody tr th:only-of-type {\n",
       "        vertical-align: middle;\n",
       "    }\n",
       "\n",
       "    .dataframe tbody tr th {\n",
       "        vertical-align: top;\n",
       "    }\n",
       "\n",
       "    .dataframe thead th {\n",
       "        text-align: right;\n",
       "    }\n",
       "</style>\n",
       "<table border=\"1\" class=\"dataframe\">\n",
       "  <thead>\n",
       "    <tr style=\"text-align: right;\">\n",
       "      <th></th>\n",
       "      <th>pid</th>\n",
       "      <th>Name</th>\n",
       "      <th>Class 1</th>\n",
       "      <th>Class 2</th>\n",
       "      <th>HP</th>\n",
       "      <th>Attack</th>\n",
       "      <th>Defense</th>\n",
       "      <th>Sp. Atk</th>\n",
       "      <th>Sp. Def</th>\n",
       "      <th>Speed</th>\n",
       "      <th>Legendary</th>\n",
       "    </tr>\n",
       "  </thead>\n",
       "  <tbody>\n",
       "    <tr>\n",
       "      <th>0</th>\n",
       "      <td>1</td>\n",
       "      <td>Bulbasaur</td>\n",
       "      <td>Grass</td>\n",
       "      <td>Poison</td>\n",
       "      <td>45</td>\n",
       "      <td>49</td>\n",
       "      <td>49</td>\n",
       "      <td>65</td>\n",
       "      <td>65</td>\n",
       "      <td>45</td>\n",
       "      <td>False</td>\n",
       "    </tr>\n",
       "    <tr>\n",
       "      <th>1</th>\n",
       "      <td>2</td>\n",
       "      <td>Ivysaur</td>\n",
       "      <td>Grass</td>\n",
       "      <td>Poison</td>\n",
       "      <td>60</td>\n",
       "      <td>62</td>\n",
       "      <td>63</td>\n",
       "      <td>80</td>\n",
       "      <td>80</td>\n",
       "      <td>60</td>\n",
       "      <td>False</td>\n",
       "    </tr>\n",
       "    <tr>\n",
       "      <th>2</th>\n",
       "      <td>3</td>\n",
       "      <td>Venusaur</td>\n",
       "      <td>Grass</td>\n",
       "      <td>Poison</td>\n",
       "      <td>80</td>\n",
       "      <td>82</td>\n",
       "      <td>83</td>\n",
       "      <td>100</td>\n",
       "      <td>100</td>\n",
       "      <td>80</td>\n",
       "      <td>False</td>\n",
       "    </tr>\n",
       "    <tr>\n",
       "      <th>3</th>\n",
       "      <td>4</td>\n",
       "      <td>Mega Venusaur</td>\n",
       "      <td>Grass</td>\n",
       "      <td>Poison</td>\n",
       "      <td>80</td>\n",
       "      <td>100</td>\n",
       "      <td>123</td>\n",
       "      <td>122</td>\n",
       "      <td>120</td>\n",
       "      <td>80</td>\n",
       "      <td>False</td>\n",
       "    </tr>\n",
       "    <tr>\n",
       "      <th>4</th>\n",
       "      <td>5</td>\n",
       "      <td>Charmander</td>\n",
       "      <td>Fire</td>\n",
       "      <td>NaN</td>\n",
       "      <td>39</td>\n",
       "      <td>52</td>\n",
       "      <td>43</td>\n",
       "      <td>60</td>\n",
       "      <td>50</td>\n",
       "      <td>65</td>\n",
       "      <td>False</td>\n",
       "    </tr>\n",
       "  </tbody>\n",
       "</table>\n",
       "</div>"
      ],
      "text/plain": [
       "   pid           Name Class 1 Class 2  HP  Attack  Defense  Sp. Atk  Sp. Def  \\\n",
       "0    1      Bulbasaur   Grass  Poison  45      49       49       65       65   \n",
       "1    2        Ivysaur   Grass  Poison  60      62       63       80       80   \n",
       "2    3       Venusaur   Grass  Poison  80      82       83      100      100   \n",
       "3    4  Mega Venusaur   Grass  Poison  80     100      123      122      120   \n",
       "4    5     Charmander    Fire     NaN  39      52       43       60       50   \n",
       "\n",
       "   Speed  Legendary  \n",
       "0     45      False  \n",
       "1     60      False  \n",
       "2     80      False  \n",
       "3     80      False  \n",
       "4     65      False  "
      ]
     },
     "execution_count": 262,
     "metadata": {},
     "output_type": "execute_result"
    }
   ],
   "source": [
    "pokemon_path = 'https://raw.githubusercontent.com/a-milenkin/datasets_for_t-tests/main/pokemon.csv'\n",
    "pokemon = pd.read_csv(pokemon_path, error_bad_lines=False)  # Откроем датасет\n",
    "pokemon.head()\n",
    "\n",
    "\n",
    "#Обратите внимание, что у покемона может быть один или два класса. Если у покемона два класса, считается,\n",
    "#что они имеют одинаковую значимость."
   ]
  },
  {
   "cell_type": "code",
   "execution_count": 263,
   "id": "9837de98",
   "metadata": {},
   "outputs": [],
   "source": [
    "pokemon.rename(columns={'Class 1': 'Class_1', 'Class 2': 'Class_2'}, inplace=True)"
   ]
  },
  {
   "cell_type": "markdown",
   "id": "2a22f62a",
   "metadata": {},
   "source": [
    "## Задание № 1:\n",
    "\n",
    "Профессор Оук подозревает, что покемоны в классе grass имеют более сильную обычную атаку, \n",
    "чем у покемонов в классе rock. Проверьте, прав ли он, и убедите его в своем выводе статистически.\n",
    "\n",
    "Примечание: если есть покемоны, которые относятся к обоим классам, просто выбросьте их.\n",
    "Вы можете предположить, что распределение обычных атак является нормальным для всех классов покемонов.\n",
    "\n",
    "**Гипотезы**:\n",
    "\n",
    "- H0 - различия в силе атак покемонов классов grass и rock незначительны\n",
    "- H1 - различия в силе атак покемонов классов grass и rock значительны\n"
   ]
  },
  {
   "cell_type": "code",
   "execution_count": 264,
   "id": "9d5300b8",
   "metadata": {},
   "outputs": [
    {
     "data": {
      "text/html": [
       "<div>\n",
       "<style scoped>\n",
       "    .dataframe tbody tr th:only-of-type {\n",
       "        vertical-align: middle;\n",
       "    }\n",
       "\n",
       "    .dataframe tbody tr th {\n",
       "        vertical-align: top;\n",
       "    }\n",
       "\n",
       "    .dataframe thead th {\n",
       "        text-align: right;\n",
       "    }\n",
       "</style>\n",
       "<table border=\"1\" class=\"dataframe\">\n",
       "  <thead>\n",
       "    <tr style=\"text-align: right;\">\n",
       "      <th></th>\n",
       "      <th>pid</th>\n",
       "      <th>Name</th>\n",
       "      <th>Class_1</th>\n",
       "      <th>Class_2</th>\n",
       "      <th>HP</th>\n",
       "      <th>Attack</th>\n",
       "      <th>Defense</th>\n",
       "      <th>Sp. Atk</th>\n",
       "      <th>Sp. Def</th>\n",
       "      <th>Speed</th>\n",
       "      <th>Legendary</th>\n",
       "    </tr>\n",
       "  </thead>\n",
       "  <tbody>\n",
       "    <tr>\n",
       "      <th>377</th>\n",
       "      <td>378</td>\n",
       "      <td>Lileep</td>\n",
       "      <td>Rock</td>\n",
       "      <td>Grass</td>\n",
       "      <td>66</td>\n",
       "      <td>41</td>\n",
       "      <td>77</td>\n",
       "      <td>61</td>\n",
       "      <td>87</td>\n",
       "      <td>23</td>\n",
       "      <td>False</td>\n",
       "    </tr>\n",
       "    <tr>\n",
       "      <th>378</th>\n",
       "      <td>379</td>\n",
       "      <td>Cradily</td>\n",
       "      <td>Rock</td>\n",
       "      <td>Grass</td>\n",
       "      <td>86</td>\n",
       "      <td>81</td>\n",
       "      <td>97</td>\n",
       "      <td>81</td>\n",
       "      <td>107</td>\n",
       "      <td>43</td>\n",
       "      <td>False</td>\n",
       "    </tr>\n",
       "  </tbody>\n",
       "</table>\n",
       "</div>"
      ],
      "text/plain": [
       "     pid     Name Class_1 Class_2  HP  Attack  Defense  Sp. Atk  Sp. Def  \\\n",
       "377  378   Lileep    Rock   Grass  66      41       77       61       87   \n",
       "378  379  Cradily    Rock   Grass  86      81       97       81      107   \n",
       "\n",
       "     Speed  Legendary  \n",
       "377     23      False  \n",
       "378     43      False  "
      ]
     },
     "execution_count": 264,
     "metadata": {},
     "output_type": "execute_result"
    }
   ],
   "source": [
    "#Поиск покемонов, которые относятся к обоим классам\n",
    "pokemon.query(\"Class_1 in ['Grass', 'Rock'] and Class_2 in ['Grass', 'Rock']\")\n"
   ]
  },
  {
   "cell_type": "code",
   "execution_count": 265,
   "id": "aed1e1c7",
   "metadata": {},
   "outputs": [],
   "source": [
    "#Исключаем покемонов, которые относятся к обоим классам\n",
    "pokemon1 = pokemon.drop(pokemon.index[[377, 378]])"
   ]
  },
  {
   "cell_type": "code",
   "execution_count": 266,
   "id": "63fe2a80",
   "metadata": {},
   "outputs": [
    {
     "name": "stdout",
     "output_type": "stream",
     "text": [
      "Statistics=1816.500, p=0.001\n",
      "Различия в силе атак покемонов классов grass и rock значительны (отвергаем H0)\n"
     ]
    }
   ],
   "source": [
    "A = pokemon1.query(\"Class_1 == 'Grass' or Class_2 == 'Grass'\")['Attack']\n",
    "B = pokemon1.query(\"Class_1 == 'Rock' or Class_2 == 'Rock'\")['Attack']\n",
    "\n",
    "#Сравнение групп\n",
    "stat, p = mannwhitneyu(A, B) # U-тест Манна-Уитни\n",
    "print('Statistics=%.3f, p=%.3f' % (stat, p))\n",
    "\n",
    "# Интерпретация\n",
    "if p > alpha:\n",
    "    print('Различия в силе атак покемонов классов grass и rock незначительны (не отвергаем H0)')\n",
    "else:\n",
    "    print('Различия в силе атак покемонов классов grass и rock значительны (отвергаем H0)')"
   ]
  },
  {
   "cell_type": "code",
   "execution_count": 267,
   "id": "28244685",
   "metadata": {},
   "outputs": [
    {
     "data": {
      "image/png": "[encoded data removed]",
      "text/plain": [
       "<Figure size 432x288 with 1 Axes>"
      ]
     },
     "metadata": {
      "needs_background": "light"
     },
     "output_type": "display_data"
    }
   ],
   "source": [
    "#Визуализация\n",
    "df = pd.DataFrame(list(zip(A, B)), columns =['Grass','Rock']) \n",
    "ax = sns.boxplot(data = df, color='#dfb0e8')\n"
   ]
  },
  {
   "cell_type": "markdown",
   "id": "431156c3",
   "metadata": {},
   "source": [
    "**Исходя из графика можно предположить, что профессор Оук ошибся и покемоны в классе rock имеют более сильную обычную атаку, \n",
    "чем покемоны в классе grass.**"
   ]
  },
  {
   "cell_type": "markdown",
   "id": "24aa2fbd",
   "metadata": {},
   "source": [
    "## Задание № 2:\n",
    "\n",
    "\n",
    "Профессор Оук уже долго не может спать по ночам ведь его волнует вопрос, \n",
    "а правда, что покемоны что покемоны в классе Water в среднем более быстрые, чем покемоны в классе Normal.\n",
    "Проверьте, прав ли он, и убедите его в своем выводе статистически.\n",
    "\n",
    "*Примечание:* если есть покемоны относятся к обоим классам, выбросьте их;\n",
    "\n",
    "Вы можете предположить, что распределение скорости движения является нормальным для всех классов покемонов.\n",
    "\n",
    "**Гипотезы**:\n",
    "\n",
    "- H0 - различия в скорости покемонов классов Water и Normal незначительны\n",
    "- H1 - различия в скорости покемонов классов Water и Normal значительны\n",
    "\n",
    "\n"
   ]
  },
  {
   "cell_type": "code",
   "execution_count": 268,
   "id": "b41ba482",
   "metadata": {},
   "outputs": [
    {
     "data": {
      "text/html": [
       "<div>\n",
       "<style scoped>\n",
       "    .dataframe tbody tr th:only-of-type {\n",
       "        vertical-align: middle;\n",
       "    }\n",
       "\n",
       "    .dataframe tbody tr th {\n",
       "        vertical-align: top;\n",
       "    }\n",
       "\n",
       "    .dataframe thead th {\n",
       "        text-align: right;\n",
       "    }\n",
       "</style>\n",
       "<table border=\"1\" class=\"dataframe\">\n",
       "  <thead>\n",
       "    <tr style=\"text-align: right;\">\n",
       "      <th></th>\n",
       "      <th>pid</th>\n",
       "      <th>Name</th>\n",
       "      <th>Class_1</th>\n",
       "      <th>Class_2</th>\n",
       "      <th>HP</th>\n",
       "      <th>Attack</th>\n",
       "      <th>Defense</th>\n",
       "      <th>Sp. Atk</th>\n",
       "      <th>Sp. Def</th>\n",
       "      <th>Speed</th>\n",
       "      <th>Legendary</th>\n",
       "    </tr>\n",
       "  </thead>\n",
       "  <tbody>\n",
       "    <tr>\n",
       "      <th>445</th>\n",
       "      <td>446</td>\n",
       "      <td>Bibarel</td>\n",
       "      <td>Normal</td>\n",
       "      <td>Water</td>\n",
       "      <td>79</td>\n",
       "      <td>85</td>\n",
       "      <td>60</td>\n",
       "      <td>55</td>\n",
       "      <td>60</td>\n",
       "      <td>71</td>\n",
       "      <td>False</td>\n",
       "    </tr>\n",
       "  </tbody>\n",
       "</table>\n",
       "</div>"
      ],
      "text/plain": [
       "     pid     Name Class_1 Class_2  HP  Attack  Defense  Sp. Atk  Sp. Def  \\\n",
       "445  446  Bibarel  Normal   Water  79      85       60       55       60   \n",
       "\n",
       "     Speed  Legendary  \n",
       "445     71      False  "
      ]
     },
     "execution_count": 268,
     "metadata": {},
     "output_type": "execute_result"
    }
   ],
   "source": [
    "pokemon.query(\"Class_1 in ['Water', 'Normal'] and Class_2 in ['Water', 'Normal']\")"
   ]
  },
  {
   "cell_type": "code",
   "execution_count": 269,
   "id": "22b3b46c",
   "metadata": {},
   "outputs": [],
   "source": [
    "#Исключаем покемонов, которые относятся к обоим классам\n",
    "pokemon2 = pokemon.drop(pokemon.index[[445]])"
   ]
  },
  {
   "cell_type": "code",
   "execution_count": 270,
   "id": "b3df8a40",
   "metadata": {},
   "outputs": [
    {
     "name": "stdout",
     "output_type": "stream",
     "text": [
      "Statistics=-2.103, p=0.037\n",
      "Различия в скорости покемонов классов Water и Normal значительны (отвергаем H0)\n"
     ]
    }
   ],
   "source": [
    "C = pokemon1.query(\"Class_1 == 'Water' or Class_2 == 'Water'\")['Speed']\n",
    "D = pokemon1.query(\"Class_1 == 'Normal' or Class_2 == 'Normal'\")['Speed']\n",
    "\n",
    "#Сравнение групп\n",
    "\n",
    "statistic, pvalue = stats.ttest_ind(C, D, equal_var = False) # применяем тест Стьюдента для независимых выборок\n",
    "print('Statistics=%.3f, p=%.3f' % (statistic, pvalue))\n",
    "\n",
    "\n",
    "#Интерпретация\n",
    "if pvalue > alpha:\n",
    "    print('Различия в скорости покемонов классов Water и Normal незначительны (не отвергаем H0)')\n",
    "else:\n",
    "    print('Различия в скорости покемонов классов Water и Normal значительны (отвергаем H0)')\n"
   ]
  },
  {
   "cell_type": "code",
   "execution_count": 271,
   "id": "a6d69a59",
   "metadata": {},
   "outputs": [
    {
     "data": {
      "image/png": "[encoded data removed]",
      "text/plain": [
       "<Figure size 432x288 with 1 Axes>"
      ]
     },
     "metadata": {
      "needs_background": "light"
     },
     "output_type": "display_data"
    }
   ],
   "source": [
    "#Визуализация\n",
    "df = pd.DataFrame(list(zip(C, D)), columns =['Water','Normal']) \n",
    "ax = sns.boxplot(data = df, color='#dfb0e8')"
   ]
  },
  {
   "cell_type": "markdown",
   "id": "fe9e7e51",
   "metadata": {},
   "source": [
    "**Исходя из графика можно предположить, что профессор Оук ошибся и покемоны окемоны в классе Normal в среднем более быстрые, чем покемоны в классе Water.**\n"
   ]
  },
  {
   "cell_type": "markdown",
   "id": "053ed012",
   "metadata": {},
   "source": [
    "## Задание № 3:\n",
    "\n",
    "Профессор Оук тот еще безумец. Он изобрел сыворотку, способную ускорить покемона. Однако, мы усомнились в эффективности его вакцины. Професcор дал эту сыворотку следующим покемонам: смотри массив treathed_pokemon. Проверьте, работает ли вообще его сыворотка, убедите всех в своем выводе статистически.\n",
    "\n",
    "Вы можете предположить, что распределение скорости движения является нормальным для всех классов покемонов.\n",
    "\n",
    "**Гипотезы**:\n",
    "\n",
    "- H0 - различия в скорости покемонов, принимающих и непринимающих вакцину, незначительны\n",
    "- H1 - различия в скорости покемонов, принимающих и непринимающих вакцину, значительны\n"
   ]
  },
  {
   "cell_type": "code",
   "execution_count": 272,
   "id": "b014c955",
   "metadata": {},
   "outputs": [],
   "source": [
    "# Покемоны, которые принимали сыворотку увеличения скорости\n",
    "treathed_pokemon = ['Mega Beedrill','Mega Alakazam', 'Deoxys Normal Forme', 'Mega Lopunny']\n",
    "E = pokemon.query(\"Name in @treathed_pokemon\")['Speed']\n",
    "\n",
    "# Покемоны, которые не принимали сыворотку увеличения скорости\n",
    "F = pokemon.loc[~pokemon['Name'].isin(treathed_pokemon)]['Speed']"
   ]
  },
  {
   "cell_type": "code",
   "execution_count": 273,
   "id": "f5f4263d",
   "metadata": {
    "scrolled": false
   },
   "outputs": [
    {
     "name": "stdout",
     "output_type": "stream",
     "text": [
      "Statistics=19.500, p=0.000\n",
      "Различия в скорости покемонов, принимающих и непринимающих вакцину, значительны (отвергаем H0)\n"
     ]
    }
   ],
   "source": [
    "#Сравнение групп\n",
    "stat, p = mannwhitneyu(E, F) # U-тест Манна-Уитни\n",
    "\n",
    "print('Statistics=%.3f, p=%.3f' % (stat, p))\n",
    "\n",
    "# Интерпретация\n",
    "if p > alpha:\n",
    "    print('Различия в скорости покемонов, принимающих и непринимающих вакцину, незначительны (не отвергаем H0)')\n",
    "else:\n",
    "    print('Различия в скорости покемонов, принимающих и непринимающих вакцину, значительны (отвергаем H0)')"
   ]
  },
  {
   "cell_type": "code",
   "execution_count": 274,
   "id": "e176fbec",
   "metadata": {},
   "outputs": [
    {
     "data": {
      "image/png": "[encoded data removed]",
      "text/plain": [
       "<Figure size 432x288 with 1 Axes>"
      ]
     },
     "metadata": {
      "needs_background": "light"
     },
     "output_type": "display_data"
    }
   ],
   "source": [
    "#Визуализация\n",
    "dt = pd.DataFrame(list(zip(E, F)), columns =['Vaccine+','Vaccine-']) \n",
    "#ax = sns.catplot(data=dt, color='#dfb0e8')\n",
    "ax = sns.boxplot(data=dt, color='#dfb0e8')"
   ]
  },
  {
   "cell_type": "markdown",
   "id": "7d8265c9",
   "metadata": {},
   "source": [
    "**На графике наглядно видно, что скорость у покемонов, принимающих вакцину, значительно выше скорости покемонов, не принимающих вакцину, а значит можно предположить, что вакцина работает.**"
   ]
  },
  {
   "cell_type": "markdown",
   "id": "064bf8fa",
   "metadata": {},
   "source": [
    "## Задание № 4:\n",
    "\n",
    "Профессор Оук всегда любил истории про легендарных покемонов. Однако, профессор не очень уверен, что они самые лучшие относительно остальных покемонов. Оук предложил разобраться в этом нам. Проверьте, действительно ли сумма характеристик HP,Attack,Defense у легендарных покемонов выше, чем у других покемонов? А произведение этих же параметров?? Найдите ответы на эти вопросы и убедите всех в своем выводе статистически.\n",
    "\n",
    "Вы можете предположить, что распределение сум и произведений этих параметров является нормальным для всех классов покемонов.\n",
    "\n",
    "**Гипотезы**:\n",
    "\n",
    "- H0 - различия в характеристиках легендарных и нелегендарных покемонов незначительны\n",
    "- H1 - различия в характеристиках легендарных и нелегендарных покемонов значительны\n"
   ]
  },
  {
   "cell_type": "code",
   "execution_count": 275,
   "id": "236ac0f5",
   "metadata": {},
   "outputs": [
    {
     "data": {
      "text/html": [
       "<div>\n",
       "<style scoped>\n",
       "    .dataframe tbody tr th:only-of-type {\n",
       "        vertical-align: middle;\n",
       "    }\n",
       "\n",
       "    .dataframe tbody tr th {\n",
       "        vertical-align: top;\n",
       "    }\n",
       "\n",
       "    .dataframe thead th {\n",
       "        text-align: right;\n",
       "    }\n",
       "</style>\n",
       "<table border=\"1\" class=\"dataframe\">\n",
       "  <thead>\n",
       "    <tr style=\"text-align: right;\">\n",
       "      <th></th>\n",
       "      <th>pid</th>\n",
       "      <th>Name</th>\n",
       "      <th>Class_1</th>\n",
       "      <th>Class_2</th>\n",
       "      <th>HP</th>\n",
       "      <th>Attack</th>\n",
       "      <th>Defense</th>\n",
       "      <th>Sp. Atk</th>\n",
       "      <th>Sp. Def</th>\n",
       "      <th>Speed</th>\n",
       "      <th>Legendary</th>\n",
       "      <th>Sum</th>\n",
       "      <th>Сomposition</th>\n",
       "    </tr>\n",
       "  </thead>\n",
       "  <tbody>\n",
       "    <tr>\n",
       "      <th>0</th>\n",
       "      <td>1</td>\n",
       "      <td>Bulbasaur</td>\n",
       "      <td>Grass</td>\n",
       "      <td>Poison</td>\n",
       "      <td>45</td>\n",
       "      <td>49</td>\n",
       "      <td>49</td>\n",
       "      <td>65</td>\n",
       "      <td>65</td>\n",
       "      <td>45</td>\n",
       "      <td>False</td>\n",
       "      <td>143</td>\n",
       "      <td>108045</td>\n",
       "    </tr>\n",
       "    <tr>\n",
       "      <th>1</th>\n",
       "      <td>2</td>\n",
       "      <td>Ivysaur</td>\n",
       "      <td>Grass</td>\n",
       "      <td>Poison</td>\n",
       "      <td>60</td>\n",
       "      <td>62</td>\n",
       "      <td>63</td>\n",
       "      <td>80</td>\n",
       "      <td>80</td>\n",
       "      <td>60</td>\n",
       "      <td>False</td>\n",
       "      <td>185</td>\n",
       "      <td>234360</td>\n",
       "    </tr>\n",
       "    <tr>\n",
       "      <th>2</th>\n",
       "      <td>3</td>\n",
       "      <td>Venusaur</td>\n",
       "      <td>Grass</td>\n",
       "      <td>Poison</td>\n",
       "      <td>80</td>\n",
       "      <td>82</td>\n",
       "      <td>83</td>\n",
       "      <td>100</td>\n",
       "      <td>100</td>\n",
       "      <td>80</td>\n",
       "      <td>False</td>\n",
       "      <td>245</td>\n",
       "      <td>544480</td>\n",
       "    </tr>\n",
       "    <tr>\n",
       "      <th>3</th>\n",
       "      <td>4</td>\n",
       "      <td>Mega Venusaur</td>\n",
       "      <td>Grass</td>\n",
       "      <td>Poison</td>\n",
       "      <td>80</td>\n",
       "      <td>100</td>\n",
       "      <td>123</td>\n",
       "      <td>122</td>\n",
       "      <td>120</td>\n",
       "      <td>80</td>\n",
       "      <td>False</td>\n",
       "      <td>303</td>\n",
       "      <td>984000</td>\n",
       "    </tr>\n",
       "    <tr>\n",
       "      <th>4</th>\n",
       "      <td>5</td>\n",
       "      <td>Charmander</td>\n",
       "      <td>Fire</td>\n",
       "      <td>NaN</td>\n",
       "      <td>39</td>\n",
       "      <td>52</td>\n",
       "      <td>43</td>\n",
       "      <td>60</td>\n",
       "      <td>50</td>\n",
       "      <td>65</td>\n",
       "      <td>False</td>\n",
       "      <td>134</td>\n",
       "      <td>87204</td>\n",
       "    </tr>\n",
       "    <tr>\n",
       "      <th>...</th>\n",
       "      <td>...</td>\n",
       "      <td>...</td>\n",
       "      <td>...</td>\n",
       "      <td>...</td>\n",
       "      <td>...</td>\n",
       "      <td>...</td>\n",
       "      <td>...</td>\n",
       "      <td>...</td>\n",
       "      <td>...</td>\n",
       "      <td>...</td>\n",
       "      <td>...</td>\n",
       "      <td>...</td>\n",
       "      <td>...</td>\n",
       "    </tr>\n",
       "    <tr>\n",
       "      <th>795</th>\n",
       "      <td>796</td>\n",
       "      <td>Diancie</td>\n",
       "      <td>Rock</td>\n",
       "      <td>Fairy</td>\n",
       "      <td>50</td>\n",
       "      <td>100</td>\n",
       "      <td>150</td>\n",
       "      <td>100</td>\n",
       "      <td>150</td>\n",
       "      <td>50</td>\n",
       "      <td>True</td>\n",
       "      <td>300</td>\n",
       "      <td>750000</td>\n",
       "    </tr>\n",
       "    <tr>\n",
       "      <th>796</th>\n",
       "      <td>797</td>\n",
       "      <td>Mega Diancie</td>\n",
       "      <td>Rock</td>\n",
       "      <td>Fairy</td>\n",
       "      <td>50</td>\n",
       "      <td>160</td>\n",
       "      <td>110</td>\n",
       "      <td>160</td>\n",
       "      <td>110</td>\n",
       "      <td>110</td>\n",
       "      <td>True</td>\n",
       "      <td>320</td>\n",
       "      <td>880000</td>\n",
       "    </tr>\n",
       "    <tr>\n",
       "      <th>797</th>\n",
       "      <td>798</td>\n",
       "      <td>Hoopa Confined</td>\n",
       "      <td>Psychic</td>\n",
       "      <td>Ghost</td>\n",
       "      <td>80</td>\n",
       "      <td>110</td>\n",
       "      <td>60</td>\n",
       "      <td>150</td>\n",
       "      <td>130</td>\n",
       "      <td>70</td>\n",
       "      <td>True</td>\n",
       "      <td>250</td>\n",
       "      <td>528000</td>\n",
       "    </tr>\n",
       "    <tr>\n",
       "      <th>798</th>\n",
       "      <td>799</td>\n",
       "      <td>Hoopa Unbound</td>\n",
       "      <td>Psychic</td>\n",
       "      <td>Dark</td>\n",
       "      <td>80</td>\n",
       "      <td>160</td>\n",
       "      <td>60</td>\n",
       "      <td>170</td>\n",
       "      <td>130</td>\n",
       "      <td>80</td>\n",
       "      <td>True</td>\n",
       "      <td>300</td>\n",
       "      <td>768000</td>\n",
       "    </tr>\n",
       "    <tr>\n",
       "      <th>799</th>\n",
       "      <td>800</td>\n",
       "      <td>Volcanion</td>\n",
       "      <td>Fire</td>\n",
       "      <td>Water</td>\n",
       "      <td>80</td>\n",
       "      <td>110</td>\n",
       "      <td>120</td>\n",
       "      <td>130</td>\n",
       "      <td>90</td>\n",
       "      <td>70</td>\n",
       "      <td>True</td>\n",
       "      <td>310</td>\n",
       "      <td>1056000</td>\n",
       "    </tr>\n",
       "  </tbody>\n",
       "</table>\n",
       "<p>800 rows × 13 columns</p>\n",
       "</div>"
      ],
      "text/plain": [
       "     pid            Name  Class_1 Class_2  HP  Attack  Defense  Sp. Atk  \\\n",
       "0      1       Bulbasaur    Grass  Poison  45      49       49       65   \n",
       "1      2         Ivysaur    Grass  Poison  60      62       63       80   \n",
       "2      3        Venusaur    Grass  Poison  80      82       83      100   \n",
       "3      4   Mega Venusaur    Grass  Poison  80     100      123      122   \n",
       "4      5      Charmander     Fire     NaN  39      52       43       60   \n",
       "..   ...             ...      ...     ...  ..     ...      ...      ...   \n",
       "795  796         Diancie     Rock   Fairy  50     100      150      100   \n",
       "796  797    Mega Diancie     Rock   Fairy  50     160      110      160   \n",
       "797  798  Hoopa Confined  Psychic   Ghost  80     110       60      150   \n",
       "798  799   Hoopa Unbound  Psychic    Dark  80     160       60      170   \n",
       "799  800       Volcanion     Fire   Water  80     110      120      130   \n",
       "\n",
       "     Sp. Def  Speed  Legendary  Sum  Сomposition  \n",
       "0         65     45      False  143       108045  \n",
       "1         80     60      False  185       234360  \n",
       "2        100     80      False  245       544480  \n",
       "3        120     80      False  303       984000  \n",
       "4         50     65      False  134        87204  \n",
       "..       ...    ...        ...  ...          ...  \n",
       "795      150     50       True  300       750000  \n",
       "796      110    110       True  320       880000  \n",
       "797      130     70       True  250       528000  \n",
       "798      130     80       True  300       768000  \n",
       "799       90     70       True  310      1056000  \n",
       "\n",
       "[800 rows x 13 columns]"
      ]
     },
     "execution_count": 275,
     "metadata": {},
     "output_type": "execute_result"
    }
   ],
   "source": [
    "pokemon = pokemon.assign(Sum = pokemon.HP + pokemon.Attack + pokemon.Defense)\n",
    "pokemon = pokemon.assign(Сomposition = pokemon.HP * pokemon.Attack * pokemon.Defense)\n",
    "pokemon"
   ]
  },
  {
   "cell_type": "code",
   "execution_count": 276,
   "id": "2330050d",
   "metadata": {},
   "outputs": [],
   "source": [
    "legendary_pokemon = pokemon[pokemon['Legendary'] == True]\n",
    "ordinary_pokemon = pokemon[~pokemon['Legendary'] == True]"
   ]
  },
  {
   "cell_type": "code",
   "execution_count": 277,
   "id": "02d7d5e5",
   "metadata": {},
   "outputs": [
    {
     "name": "stdout",
     "output_type": "stream",
     "text": [
      "Statistics=105.165, p=0.000\n",
      "Различия в сумме характеристик легендарных и нелегендарных покемонов значительны (отвергаем H0)\n"
     ]
    }
   ],
   "source": [
    "#Будем использовать непараметрический тест -  H-критерий Краскела-Уоллеса, который невосприимчив к выбросам\n",
    "#Сравнение групп покемонов по сумме характеристик\n",
    "statistic, pvalue = stats.kruskal(legendary_pokemon['Sum'], ordinary_pokemon['Sum'])\n",
    "print('Statistics=%.3f, p=%.3f' % (statistic, pvalue))\n",
    "\n",
    "#Интерпретация\n",
    "if pvalue > alpha:\n",
    "    print('Различия в сумме характеристик легендарных и нелегендарных покемонов незначительны (не отвергаем H0)')\n",
    "else:\n",
    "    print('Различия в сумме характеристик легендарных и нелегендарных покемонов значительны (отвергаем H0)')"
   ]
  },
  {
   "cell_type": "code",
   "execution_count": 278,
   "id": "98be5f74",
   "metadata": {},
   "outputs": [
    {
     "name": "stdout",
     "output_type": "stream",
     "text": [
      "Statistics=103.255, p=0.000\n",
      "Различия в произведении характеристик легендарных и нелегендарных покемонов значительны (отвергаем H0)\n"
     ]
    }
   ],
   "source": [
    "#Сравнение групп покемонов по произведению характеристик\n",
    "statistic, pvalue = stats.kruskal(legendary_pokemon['Сomposition'], ordinary_pokemon['Сomposition'])\n",
    "print('Statistics=%.3f, p=%.3f' % (statistic, pvalue))\n",
    "\n",
    "#Интерпретация\n",
    "if pvalue > alpha:\n",
    "    print('Различия в произведении характеристик легендарных и нелегендарных покемонов незначительны (не отвергаем H0)')\n",
    "else:\n",
    "    print('Различия в произведении характеристик легендарных и нелегендарных покемонов значительны (отвергаем H0)')"
   ]
  },
  {
   "cell_type": "code",
   "execution_count": 279,
   "id": "3db57199",
   "metadata": {},
   "outputs": [
    {
     "data": {
      "text/html": [
       "<div>\n",
       "<style scoped>\n",
       "    .dataframe tbody tr th:only-of-type {\n",
       "        vertical-align: middle;\n",
       "    }\n",
       "\n",
       "    .dataframe tbody tr th {\n",
       "        vertical-align: top;\n",
       "    }\n",
       "\n",
       "    .dataframe thead th {\n",
       "        text-align: right;\n",
       "    }\n",
       "</style>\n",
       "<table border=\"1\" class=\"dataframe\">\n",
       "  <thead>\n",
       "    <tr style=\"text-align: right;\">\n",
       "      <th></th>\n",
       "      <th>pid</th>\n",
       "      <th>Name</th>\n",
       "      <th>Class_1</th>\n",
       "      <th>Class_2</th>\n",
       "      <th>HP</th>\n",
       "      <th>Attack</th>\n",
       "      <th>Defense</th>\n",
       "      <th>Sp. Atk</th>\n",
       "      <th>Sp. Def</th>\n",
       "      <th>Speed</th>\n",
       "      <th>Legendary</th>\n",
       "      <th>Sum</th>\n",
       "      <th>Сomposition</th>\n",
       "    </tr>\n",
       "  </thead>\n",
       "  <tbody>\n",
       "    <tr>\n",
       "      <th>424</th>\n",
       "      <td>425</td>\n",
       "      <td>Primal Groudon</td>\n",
       "      <td>Ground</td>\n",
       "      <td>Fire</td>\n",
       "      <td>100</td>\n",
       "      <td>180</td>\n",
       "      <td>160</td>\n",
       "      <td>150</td>\n",
       "      <td>90</td>\n",
       "      <td>90</td>\n",
       "      <td>True</td>\n",
       "      <td>440</td>\n",
       "      <td>2880000</td>\n",
       "    </tr>\n",
       "  </tbody>\n",
       "</table>\n",
       "</div>"
      ],
      "text/plain": [
       "     pid            Name Class_1 Class_2   HP  Attack  Defense  Sp. Atk  \\\n",
       "424  425  Primal Groudon  Ground    Fire  100     180      160      150   \n",
       "\n",
       "     Sp. Def  Speed  Legendary  Sum  Сomposition  \n",
       "424       90     90       True  440      2880000  "
      ]
     },
     "execution_count": 279,
     "metadata": {},
     "output_type": "execute_result"
    }
   ],
   "source": [
    "#Для сравнения средних значений покемонов разных групп подчистим выбросы через межквартальный размах\n",
    "legendary_pokemon_stat = legendary_pokemon.describe()\n",
    "\n",
    "#Расчет границ для определения выбросов среди легендарных покемонов\n",
    "legendary_pokemon_stat.loc['lower_bound ',] = legendary_pokemon_stat.loc['25%', ] - 1.5*(legendary_pokemon_stat.loc['75%', ] - (legendary_pokemon_stat.loc['25%', ]))\n",
    "legendary_pokemon_stat.loc['upper_bound ',] = legendary_pokemon_stat.loc['75%', ] + 1.5*(legendary_pokemon_stat.loc['75%', ] - (legendary_pokemon_stat.loc['25%', ]))\n",
    "\n",
    "legendary_pokemon_stat\n",
    "\n",
    "#Ищем выбросы среди легендарных покемонов\n",
    "remove_outliers = legendary_pokemon[legendary_pokemon['Sum'].between(legendary_pokemon_stat.loc['lower_bound ','Sum'], legendary_pokemon_stat.loc['upper_bound ','Sum'], inclusive=True)].sort_values('Sum')\n",
    "\n",
    "pd.concat([legendary_pokemon, remove_outliers]).drop_duplicates(keep=False)"
   ]
  },
  {
   "cell_type": "code",
   "execution_count": 280,
   "id": "6860823a",
   "metadata": {},
   "outputs": [
    {
     "data": {
      "text/html": [
       "<div>\n",
       "<style scoped>\n",
       "    .dataframe tbody tr th:only-of-type {\n",
       "        vertical-align: middle;\n",
       "    }\n",
       "\n",
       "    .dataframe tbody tr th {\n",
       "        vertical-align: top;\n",
       "    }\n",
       "\n",
       "    .dataframe thead th {\n",
       "        text-align: right;\n",
       "    }\n",
       "</style>\n",
       "<table border=\"1\" class=\"dataframe\">\n",
       "  <thead>\n",
       "    <tr style=\"text-align: right;\">\n",
       "      <th></th>\n",
       "      <th>pid</th>\n",
       "      <th>Name</th>\n",
       "      <th>Class_1</th>\n",
       "      <th>Class_2</th>\n",
       "      <th>HP</th>\n",
       "      <th>Attack</th>\n",
       "      <th>Defense</th>\n",
       "      <th>Sp. Atk</th>\n",
       "      <th>Sp. Def</th>\n",
       "      <th>Speed</th>\n",
       "      <th>Legendary</th>\n",
       "      <th>Sum</th>\n",
       "      <th>Сomposition</th>\n",
       "    </tr>\n",
       "  </thead>\n",
       "  <tbody>\n",
       "    <tr>\n",
       "      <th>424</th>\n",
       "      <td>425</td>\n",
       "      <td>Primal Groudon</td>\n",
       "      <td>Ground</td>\n",
       "      <td>Fire</td>\n",
       "      <td>100</td>\n",
       "      <td>180</td>\n",
       "      <td>160</td>\n",
       "      <td>150</td>\n",
       "      <td>90</td>\n",
       "      <td>90</td>\n",
       "      <td>True</td>\n",
       "      <td>440</td>\n",
       "      <td>2880000</td>\n",
       "    </tr>\n",
       "  </tbody>\n",
       "</table>\n",
       "</div>"
      ],
      "text/plain": [
       "     pid            Name Class_1 Class_2   HP  Attack  Defense  Sp. Atk  \\\n",
       "424  425  Primal Groudon  Ground    Fire  100     180      160      150   \n",
       "\n",
       "     Sp. Def  Speed  Legendary  Sum  Сomposition  \n",
       "424       90     90       True  440      2880000  "
      ]
     },
     "execution_count": 280,
     "metadata": {},
     "output_type": "execute_result"
    }
   ],
   "source": [
    "remove_outliers = legendary_pokemon[legendary_pokemon['Сomposition'].between(legendary_pokemon_stat.loc['lower_bound ','Сomposition'], legendary_pokemon_stat.loc['upper_bound ','Сomposition'], inclusive=True)].sort_values('Сomposition')\n",
    "\n",
    "pd.concat([legendary_pokemon, remove_outliers]).drop_duplicates(keep=False)\n"
   ]
  },
  {
   "cell_type": "code",
   "execution_count": 281,
   "id": "d771996b",
   "metadata": {},
   "outputs": [
    {
     "data": {
      "text/html": [
       "<div>\n",
       "<style scoped>\n",
       "    .dataframe tbody tr th:only-of-type {\n",
       "        vertical-align: middle;\n",
       "    }\n",
       "\n",
       "    .dataframe tbody tr th {\n",
       "        vertical-align: top;\n",
       "    }\n",
       "\n",
       "    .dataframe thead th {\n",
       "        text-align: right;\n",
       "    }\n",
       "</style>\n",
       "<table border=\"1\" class=\"dataframe\">\n",
       "  <thead>\n",
       "    <tr style=\"text-align: right;\">\n",
       "      <th></th>\n",
       "      <th>pid</th>\n",
       "      <th>Name</th>\n",
       "      <th>Class_1</th>\n",
       "      <th>Class_2</th>\n",
       "      <th>HP</th>\n",
       "      <th>Attack</th>\n",
       "      <th>Defense</th>\n",
       "      <th>Sp. Atk</th>\n",
       "      <th>Sp. Def</th>\n",
       "      <th>Speed</th>\n",
       "      <th>Legendary</th>\n",
       "      <th>Sum</th>\n",
       "      <th>Сomposition</th>\n",
       "    </tr>\n",
       "  </thead>\n",
       "  <tbody>\n",
       "    <tr>\n",
       "      <th>224</th>\n",
       "      <td>225</td>\n",
       "      <td>Mega Steelix</td>\n",
       "      <td>Steel</td>\n",
       "      <td>Ground</td>\n",
       "      <td>75</td>\n",
       "      <td>125</td>\n",
       "      <td>230</td>\n",
       "      <td>55</td>\n",
       "      <td>95</td>\n",
       "      <td>30</td>\n",
       "      <td>False</td>\n",
       "      <td>430</td>\n",
       "      <td>2156250</td>\n",
       "    </tr>\n",
       "    <tr>\n",
       "      <th>268</th>\n",
       "      <td>269</td>\n",
       "      <td>Mega Tyranitar</td>\n",
       "      <td>Rock</td>\n",
       "      <td>Dark</td>\n",
       "      <td>100</td>\n",
       "      <td>164</td>\n",
       "      <td>150</td>\n",
       "      <td>95</td>\n",
       "      <td>120</td>\n",
       "      <td>71</td>\n",
       "      <td>False</td>\n",
       "      <td>414</td>\n",
       "      <td>2460000</td>\n",
       "    </tr>\n",
       "    <tr>\n",
       "      <th>313</th>\n",
       "      <td>314</td>\n",
       "      <td>Slaking</td>\n",
       "      <td>Normal</td>\n",
       "      <td>NaN</td>\n",
       "      <td>150</td>\n",
       "      <td>160</td>\n",
       "      <td>100</td>\n",
       "      <td>95</td>\n",
       "      <td>65</td>\n",
       "      <td>100</td>\n",
       "      <td>False</td>\n",
       "      <td>410</td>\n",
       "      <td>2400000</td>\n",
       "    </tr>\n",
       "    <tr>\n",
       "      <th>333</th>\n",
       "      <td>334</td>\n",
       "      <td>Mega Aggron</td>\n",
       "      <td>Steel</td>\n",
       "      <td>NaN</td>\n",
       "      <td>70</td>\n",
       "      <td>140</td>\n",
       "      <td>230</td>\n",
       "      <td>60</td>\n",
       "      <td>80</td>\n",
       "      <td>50</td>\n",
       "      <td>False</td>\n",
       "      <td>440</td>\n",
       "      <td>2254000</td>\n",
       "    </tr>\n",
       "  </tbody>\n",
       "</table>\n",
       "</div>"
      ],
      "text/plain": [
       "     pid            Name Class_1 Class_2   HP  Attack  Defense  Sp. Atk  \\\n",
       "224  225    Mega Steelix   Steel  Ground   75     125      230       55   \n",
       "268  269  Mega Tyranitar    Rock    Dark  100     164      150       95   \n",
       "313  314         Slaking  Normal     NaN  150     160      100       95   \n",
       "333  334     Mega Aggron   Steel     NaN   70     140      230       60   \n",
       "\n",
       "     Sp. Def  Speed  Legendary  Sum  Сomposition  \n",
       "224       95     30      False  430      2156250  \n",
       "268      120     71      False  414      2460000  \n",
       "313       65    100      False  410      2400000  \n",
       "333       80     50      False  440      2254000  "
      ]
     },
     "execution_count": 281,
     "metadata": {},
     "output_type": "execute_result"
    }
   ],
   "source": [
    "#Ищем выбросы среди обычных покемонов\n",
    "ordinary_pokemon_stat = ordinary_pokemon.describe()\n",
    "\n",
    "#Расчет границ для определения выбросов \n",
    "ordinary_pokemon_stat.loc['lower_bound ',] = ordinary_pokemon_stat.loc['25%', ] - 1.5*(ordinary_pokemon_stat.loc['75%', ] - (ordinary_pokemon_stat.loc['25%', ]))\n",
    "ordinary_pokemon_stat.loc['upper_bound ',] = ordinary_pokemon_stat.loc['75%', ] + 1.5*(ordinary_pokemon_stat.loc['75%', ] - (ordinary_pokemon_stat.loc['25%', ]))\n",
    "\n",
    "ordinary_pokemon_stat\n",
    "remove_outliers = ordinary_pokemon[ordinary_pokemon['Sum'].between(ordinary_pokemon_stat.loc['lower_bound ','Sum'], ordinary_pokemon_stat.loc['upper_bound ','Sum'], inclusive=True)].sort_values('Sum')\n",
    "\n",
    "pd.concat([ordinary_pokemon, remove_outliers]).drop_duplicates(keep=False)\n"
   ]
  },
  {
   "cell_type": "code",
   "execution_count": 282,
   "id": "26011924",
   "metadata": {},
   "outputs": [
    {
     "data": {
      "text/html": [
       "<div>\n",
       "<style scoped>\n",
       "    .dataframe tbody tr th:only-of-type {\n",
       "        vertical-align: middle;\n",
       "    }\n",
       "\n",
       "    .dataframe tbody tr th {\n",
       "        vertical-align: top;\n",
       "    }\n",
       "\n",
       "    .dataframe thead th {\n",
       "        text-align: right;\n",
       "    }\n",
       "</style>\n",
       "<table border=\"1\" class=\"dataframe\">\n",
       "  <thead>\n",
       "    <tr style=\"text-align: right;\">\n",
       "      <th></th>\n",
       "      <th>pid</th>\n",
       "      <th>Name</th>\n",
       "      <th>Class_1</th>\n",
       "      <th>Class_2</th>\n",
       "      <th>HP</th>\n",
       "      <th>Attack</th>\n",
       "      <th>Defense</th>\n",
       "      <th>Sp. Atk</th>\n",
       "      <th>Sp. Def</th>\n",
       "      <th>Speed</th>\n",
       "      <th>Legendary</th>\n",
       "      <th>Sum</th>\n",
       "      <th>Сomposition</th>\n",
       "    </tr>\n",
       "  </thead>\n",
       "  <tbody>\n",
       "    <tr>\n",
       "      <th>82</th>\n",
       "      <td>83</td>\n",
       "      <td>Golem</td>\n",
       "      <td>Rock</td>\n",
       "      <td>Ground</td>\n",
       "      <td>80</td>\n",
       "      <td>120</td>\n",
       "      <td>130</td>\n",
       "      <td>55</td>\n",
       "      <td>65</td>\n",
       "      <td>45</td>\n",
       "      <td>False</td>\n",
       "      <td>330</td>\n",
       "      <td>1248000</td>\n",
       "    </tr>\n",
       "    <tr>\n",
       "      <th>87</th>\n",
       "      <td>88</td>\n",
       "      <td>Mega Slowbro</td>\n",
       "      <td>Water</td>\n",
       "      <td>Psychic</td>\n",
       "      <td>95</td>\n",
       "      <td>75</td>\n",
       "      <td>180</td>\n",
       "      <td>130</td>\n",
       "      <td>80</td>\n",
       "      <td>30</td>\n",
       "      <td>False</td>\n",
       "      <td>350</td>\n",
       "      <td>1282500</td>\n",
       "    </tr>\n",
       "    <tr>\n",
       "      <th>120</th>\n",
       "      <td>121</td>\n",
       "      <td>Rhydon</td>\n",
       "      <td>Ground</td>\n",
       "      <td>Rock</td>\n",
       "      <td>105</td>\n",
       "      <td>130</td>\n",
       "      <td>120</td>\n",
       "      <td>45</td>\n",
       "      <td>45</td>\n",
       "      <td>40</td>\n",
       "      <td>False</td>\n",
       "      <td>355</td>\n",
       "      <td>1638000</td>\n",
       "    </tr>\n",
       "    <tr>\n",
       "      <th>124</th>\n",
       "      <td>125</td>\n",
       "      <td>Mega Kangaskhan</td>\n",
       "      <td>Normal</td>\n",
       "      <td>NaN</td>\n",
       "      <td>105</td>\n",
       "      <td>125</td>\n",
       "      <td>100</td>\n",
       "      <td>60</td>\n",
       "      <td>100</td>\n",
       "      <td>100</td>\n",
       "      <td>False</td>\n",
       "      <td>330</td>\n",
       "      <td>1312500</td>\n",
       "    </tr>\n",
       "    <tr>\n",
       "      <th>137</th>\n",
       "      <td>138</td>\n",
       "      <td>Mega Pinsir</td>\n",
       "      <td>Bug</td>\n",
       "      <td>Flying</td>\n",
       "      <td>65</td>\n",
       "      <td>155</td>\n",
       "      <td>120</td>\n",
       "      <td>65</td>\n",
       "      <td>90</td>\n",
       "      <td>105</td>\n",
       "      <td>False</td>\n",
       "      <td>340</td>\n",
       "      <td>1209000</td>\n",
       "    </tr>\n",
       "    <tr>\n",
       "      <th>141</th>\n",
       "      <td>142</td>\n",
       "      <td>Mega Gyarados</td>\n",
       "      <td>Water</td>\n",
       "      <td>Dark</td>\n",
       "      <td>95</td>\n",
       "      <td>155</td>\n",
       "      <td>109</td>\n",
       "      <td>70</td>\n",
       "      <td>130</td>\n",
       "      <td>81</td>\n",
       "      <td>False</td>\n",
       "      <td>359</td>\n",
       "      <td>1605025</td>\n",
       "    </tr>\n",
       "    <tr>\n",
       "      <th>223</th>\n",
       "      <td>224</td>\n",
       "      <td>Steelix</td>\n",
       "      <td>Steel</td>\n",
       "      <td>Ground</td>\n",
       "      <td>75</td>\n",
       "      <td>85</td>\n",
       "      <td>200</td>\n",
       "      <td>55</td>\n",
       "      <td>65</td>\n",
       "      <td>30</td>\n",
       "      <td>False</td>\n",
       "      <td>360</td>\n",
       "      <td>1275000</td>\n",
       "    </tr>\n",
       "    <tr>\n",
       "      <th>224</th>\n",
       "      <td>225</td>\n",
       "      <td>Mega Steelix</td>\n",
       "      <td>Steel</td>\n",
       "      <td>Ground</td>\n",
       "      <td>75</td>\n",
       "      <td>125</td>\n",
       "      <td>230</td>\n",
       "      <td>55</td>\n",
       "      <td>95</td>\n",
       "      <td>30</td>\n",
       "      <td>False</td>\n",
       "      <td>430</td>\n",
       "      <td>2156250</td>\n",
       "    </tr>\n",
       "    <tr>\n",
       "      <th>229</th>\n",
       "      <td>230</td>\n",
       "      <td>Mega Scizor</td>\n",
       "      <td>Bug</td>\n",
       "      <td>Steel</td>\n",
       "      <td>70</td>\n",
       "      <td>150</td>\n",
       "      <td>140</td>\n",
       "      <td>65</td>\n",
       "      <td>100</td>\n",
       "      <td>75</td>\n",
       "      <td>False</td>\n",
       "      <td>360</td>\n",
       "      <td>1470000</td>\n",
       "    </tr>\n",
       "    <tr>\n",
       "      <th>232</th>\n",
       "      <td>233</td>\n",
       "      <td>Mega Heracross</td>\n",
       "      <td>Bug</td>\n",
       "      <td>Fighting</td>\n",
       "      <td>80</td>\n",
       "      <td>185</td>\n",
       "      <td>115</td>\n",
       "      <td>40</td>\n",
       "      <td>105</td>\n",
       "      <td>75</td>\n",
       "      <td>False</td>\n",
       "      <td>380</td>\n",
       "      <td>1702000</td>\n",
       "    </tr>\n",
       "    <tr>\n",
       "      <th>251</th>\n",
       "      <td>252</td>\n",
       "      <td>Donphan</td>\n",
       "      <td>Ground</td>\n",
       "      <td>NaN</td>\n",
       "      <td>90</td>\n",
       "      <td>120</td>\n",
       "      <td>120</td>\n",
       "      <td>60</td>\n",
       "      <td>60</td>\n",
       "      <td>50</td>\n",
       "      <td>False</td>\n",
       "      <td>330</td>\n",
       "      <td>1296000</td>\n",
       "    </tr>\n",
       "    <tr>\n",
       "      <th>267</th>\n",
       "      <td>268</td>\n",
       "      <td>Tyranitar</td>\n",
       "      <td>Rock</td>\n",
       "      <td>Dark</td>\n",
       "      <td>100</td>\n",
       "      <td>134</td>\n",
       "      <td>110</td>\n",
       "      <td>95</td>\n",
       "      <td>100</td>\n",
       "      <td>61</td>\n",
       "      <td>False</td>\n",
       "      <td>344</td>\n",
       "      <td>1474000</td>\n",
       "    </tr>\n",
       "    <tr>\n",
       "      <th>268</th>\n",
       "      <td>269</td>\n",
       "      <td>Mega Tyranitar</td>\n",
       "      <td>Rock</td>\n",
       "      <td>Dark</td>\n",
       "      <td>100</td>\n",
       "      <td>164</td>\n",
       "      <td>150</td>\n",
       "      <td>95</td>\n",
       "      <td>120</td>\n",
       "      <td>71</td>\n",
       "      <td>False</td>\n",
       "      <td>414</td>\n",
       "      <td>2460000</td>\n",
       "    </tr>\n",
       "    <tr>\n",
       "      <th>283</th>\n",
       "      <td>284</td>\n",
       "      <td>Mega Swampert</td>\n",
       "      <td>Water</td>\n",
       "      <td>Ground</td>\n",
       "      <td>100</td>\n",
       "      <td>150</td>\n",
       "      <td>110</td>\n",
       "      <td>95</td>\n",
       "      <td>110</td>\n",
       "      <td>70</td>\n",
       "      <td>False</td>\n",
       "      <td>360</td>\n",
       "      <td>1650000</td>\n",
       "    </tr>\n",
       "    <tr>\n",
       "      <th>313</th>\n",
       "      <td>314</td>\n",
       "      <td>Slaking</td>\n",
       "      <td>Normal</td>\n",
       "      <td>NaN</td>\n",
       "      <td>150</td>\n",
       "      <td>160</td>\n",
       "      <td>100</td>\n",
       "      <td>95</td>\n",
       "      <td>65</td>\n",
       "      <td>100</td>\n",
       "      <td>False</td>\n",
       "      <td>410</td>\n",
       "      <td>2400000</td>\n",
       "    </tr>\n",
       "    <tr>\n",
       "      <th>332</th>\n",
       "      <td>333</td>\n",
       "      <td>Aggron</td>\n",
       "      <td>Steel</td>\n",
       "      <td>Rock</td>\n",
       "      <td>70</td>\n",
       "      <td>110</td>\n",
       "      <td>180</td>\n",
       "      <td>60</td>\n",
       "      <td>60</td>\n",
       "      <td>50</td>\n",
       "      <td>False</td>\n",
       "      <td>360</td>\n",
       "      <td>1386000</td>\n",
       "    </tr>\n",
       "    <tr>\n",
       "      <th>333</th>\n",
       "      <td>334</td>\n",
       "      <td>Mega Aggron</td>\n",
       "      <td>Steel</td>\n",
       "      <td>NaN</td>\n",
       "      <td>70</td>\n",
       "      <td>140</td>\n",
       "      <td>230</td>\n",
       "      <td>60</td>\n",
       "      <td>80</td>\n",
       "      <td>50</td>\n",
       "      <td>False</td>\n",
       "      <td>440</td>\n",
       "      <td>2254000</td>\n",
       "    </tr>\n",
       "    <tr>\n",
       "      <th>409</th>\n",
       "      <td>410</td>\n",
       "      <td>Mega Salamence</td>\n",
       "      <td>Dragon</td>\n",
       "      <td>Flying</td>\n",
       "      <td>95</td>\n",
       "      <td>145</td>\n",
       "      <td>130</td>\n",
       "      <td>120</td>\n",
       "      <td>90</td>\n",
       "      <td>120</td>\n",
       "      <td>False</td>\n",
       "      <td>370</td>\n",
       "      <td>1790750</td>\n",
       "    </tr>\n",
       "    <tr>\n",
       "      <th>412</th>\n",
       "      <td>413</td>\n",
       "      <td>Metagross</td>\n",
       "      <td>Steel</td>\n",
       "      <td>Psychic</td>\n",
       "      <td>80</td>\n",
       "      <td>135</td>\n",
       "      <td>130</td>\n",
       "      <td>95</td>\n",
       "      <td>90</td>\n",
       "      <td>70</td>\n",
       "      <td>False</td>\n",
       "      <td>345</td>\n",
       "      <td>1404000</td>\n",
       "    </tr>\n",
       "    <tr>\n",
       "      <th>413</th>\n",
       "      <td>414</td>\n",
       "      <td>Mega Metagross</td>\n",
       "      <td>Steel</td>\n",
       "      <td>Psychic</td>\n",
       "      <td>80</td>\n",
       "      <td>145</td>\n",
       "      <td>150</td>\n",
       "      <td>105</td>\n",
       "      <td>110</td>\n",
       "      <td>110</td>\n",
       "      <td>False</td>\n",
       "      <td>375</td>\n",
       "      <td>1740000</td>\n",
       "    </tr>\n",
       "    <tr>\n",
       "      <th>493</th>\n",
       "      <td>494</td>\n",
       "      <td>Garchomp</td>\n",
       "      <td>Dragon</td>\n",
       "      <td>Ground</td>\n",
       "      <td>108</td>\n",
       "      <td>130</td>\n",
       "      <td>95</td>\n",
       "      <td>80</td>\n",
       "      <td>85</td>\n",
       "      <td>102</td>\n",
       "      <td>False</td>\n",
       "      <td>333</td>\n",
       "      <td>1333800</td>\n",
       "    </tr>\n",
       "    <tr>\n",
       "      <th>494</th>\n",
       "      <td>495</td>\n",
       "      <td>Mega Garchomp</td>\n",
       "      <td>Dragon</td>\n",
       "      <td>Ground</td>\n",
       "      <td>108</td>\n",
       "      <td>170</td>\n",
       "      <td>115</td>\n",
       "      <td>120</td>\n",
       "      <td>95</td>\n",
       "      <td>92</td>\n",
       "      <td>False</td>\n",
       "      <td>393</td>\n",
       "      <td>2111400</td>\n",
       "    </tr>\n",
       "    <tr>\n",
       "      <th>500</th>\n",
       "      <td>501</td>\n",
       "      <td>Hippowdon</td>\n",
       "      <td>Ground</td>\n",
       "      <td>NaN</td>\n",
       "      <td>108</td>\n",
       "      <td>112</td>\n",
       "      <td>118</td>\n",
       "      <td>68</td>\n",
       "      <td>72</td>\n",
       "      <td>47</td>\n",
       "      <td>False</td>\n",
       "      <td>338</td>\n",
       "      <td>1427328</td>\n",
       "    </tr>\n",
       "    <tr>\n",
       "      <th>511</th>\n",
       "      <td>512</td>\n",
       "      <td>Mega Abomasnow</td>\n",
       "      <td>Grass</td>\n",
       "      <td>Ice</td>\n",
       "      <td>90</td>\n",
       "      <td>132</td>\n",
       "      <td>105</td>\n",
       "      <td>132</td>\n",
       "      <td>105</td>\n",
       "      <td>30</td>\n",
       "      <td>False</td>\n",
       "      <td>327</td>\n",
       "      <td>1247400</td>\n",
       "    </tr>\n",
       "    <tr>\n",
       "      <th>515</th>\n",
       "      <td>516</td>\n",
       "      <td>Rhyperior</td>\n",
       "      <td>Ground</td>\n",
       "      <td>Rock</td>\n",
       "      <td>115</td>\n",
       "      <td>140</td>\n",
       "      <td>130</td>\n",
       "      <td>55</td>\n",
       "      <td>55</td>\n",
       "      <td>40</td>\n",
       "      <td>False</td>\n",
       "      <td>385</td>\n",
       "      <td>2093000</td>\n",
       "    </tr>\n",
       "    <tr>\n",
       "      <th>516</th>\n",
       "      <td>517</td>\n",
       "      <td>Tangrowth</td>\n",
       "      <td>Grass</td>\n",
       "      <td>NaN</td>\n",
       "      <td>100</td>\n",
       "      <td>100</td>\n",
       "      <td>125</td>\n",
       "      <td>110</td>\n",
       "      <td>50</td>\n",
       "      <td>50</td>\n",
       "      <td>False</td>\n",
       "      <td>325</td>\n",
       "      <td>1250000</td>\n",
       "    </tr>\n",
       "    <tr>\n",
       "      <th>585</th>\n",
       "      <td>586</td>\n",
       "      <td>Gigalith</td>\n",
       "      <td>Rock</td>\n",
       "      <td>NaN</td>\n",
       "      <td>85</td>\n",
       "      <td>135</td>\n",
       "      <td>130</td>\n",
       "      <td>60</td>\n",
       "      <td>80</td>\n",
       "      <td>25</td>\n",
       "      <td>False</td>\n",
       "      <td>350</td>\n",
       "      <td>1491750</td>\n",
       "    </tr>\n",
       "    <tr>\n",
       "      <th>594</th>\n",
       "      <td>595</td>\n",
       "      <td>Conkeldurr</td>\n",
       "      <td>Fighting</td>\n",
       "      <td>NaN</td>\n",
       "      <td>105</td>\n",
       "      <td>140</td>\n",
       "      <td>95</td>\n",
       "      <td>55</td>\n",
       "      <td>65</td>\n",
       "      <td>45</td>\n",
       "      <td>False</td>\n",
       "      <td>340</td>\n",
       "      <td>1396500</td>\n",
       "    </tr>\n",
       "    <tr>\n",
       "      <th>789</th>\n",
       "      <td>790</td>\n",
       "      <td>Avalugg</td>\n",
       "      <td>Ice</td>\n",
       "      <td>NaN</td>\n",
       "      <td>95</td>\n",
       "      <td>117</td>\n",
       "      <td>184</td>\n",
       "      <td>44</td>\n",
       "      <td>46</td>\n",
       "      <td>28</td>\n",
       "      <td>False</td>\n",
       "      <td>396</td>\n",
       "      <td>2045160</td>\n",
       "    </tr>\n",
       "  </tbody>\n",
       "</table>\n",
       "</div>"
      ],
      "text/plain": [
       "     pid             Name   Class_1   Class_2   HP  Attack  Defense  Sp. Atk  \\\n",
       "82    83            Golem      Rock    Ground   80     120      130       55   \n",
       "87    88     Mega Slowbro     Water   Psychic   95      75      180      130   \n",
       "120  121           Rhydon    Ground      Rock  105     130      120       45   \n",
       "124  125  Mega Kangaskhan    Normal       NaN  105     125      100       60   \n",
       "137  138      Mega Pinsir       Bug    Flying   65     155      120       65   \n",
       "141  142    Mega Gyarados     Water      Dark   95     155      109       70   \n",
       "223  224          Steelix     Steel    Ground   75      85      200       55   \n",
       "224  225     Mega Steelix     Steel    Ground   75     125      230       55   \n",
       "229  230      Mega Scizor       Bug     Steel   70     150      140       65   \n",
       "232  233   Mega Heracross       Bug  Fighting   80     185      115       40   \n",
       "251  252          Donphan    Ground       NaN   90     120      120       60   \n",
       "267  268        Tyranitar      Rock      Dark  100     134      110       95   \n",
       "268  269   Mega Tyranitar      Rock      Dark  100     164      150       95   \n",
       "283  284    Mega Swampert     Water    Ground  100     150      110       95   \n",
       "313  314          Slaking    Normal       NaN  150     160      100       95   \n",
       "332  333           Aggron     Steel      Rock   70     110      180       60   \n",
       "333  334      Mega Aggron     Steel       NaN   70     140      230       60   \n",
       "409  410   Mega Salamence    Dragon    Flying   95     145      130      120   \n",
       "412  413        Metagross     Steel   Psychic   80     135      130       95   \n",
       "413  414   Mega Metagross     Steel   Psychic   80     145      150      105   \n",
       "493  494         Garchomp    Dragon    Ground  108     130       95       80   \n",
       "494  495    Mega Garchomp    Dragon    Ground  108     170      115      120   \n",
       "500  501        Hippowdon    Ground       NaN  108     112      118       68   \n",
       "511  512   Mega Abomasnow     Grass       Ice   90     132      105      132   \n",
       "515  516        Rhyperior    Ground      Rock  115     140      130       55   \n",
       "516  517        Tangrowth     Grass       NaN  100     100      125      110   \n",
       "585  586         Gigalith      Rock       NaN   85     135      130       60   \n",
       "594  595       Conkeldurr  Fighting       NaN  105     140       95       55   \n",
       "789  790          Avalugg       Ice       NaN   95     117      184       44   \n",
       "\n",
       "     Sp. Def  Speed  Legendary  Sum  Сomposition  \n",
       "82        65     45      False  330      1248000  \n",
       "87        80     30      False  350      1282500  \n",
       "120       45     40      False  355      1638000  \n",
       "124      100    100      False  330      1312500  \n",
       "137       90    105      False  340      1209000  \n",
       "141      130     81      False  359      1605025  \n",
       "223       65     30      False  360      1275000  \n",
       "224       95     30      False  430      2156250  \n",
       "229      100     75      False  360      1470000  \n",
       "232      105     75      False  380      1702000  \n",
       "251       60     50      False  330      1296000  \n",
       "267      100     61      False  344      1474000  \n",
       "268      120     71      False  414      2460000  \n",
       "283      110     70      False  360      1650000  \n",
       "313       65    100      False  410      2400000  \n",
       "332       60     50      False  360      1386000  \n",
       "333       80     50      False  440      2254000  \n",
       "409       90    120      False  370      1790750  \n",
       "412       90     70      False  345      1404000  \n",
       "413      110    110      False  375      1740000  \n",
       "493       85    102      False  333      1333800  \n",
       "494       95     92      False  393      2111400  \n",
       "500       72     47      False  338      1427328  \n",
       "511      105     30      False  327      1247400  \n",
       "515       55     40      False  385      2093000  \n",
       "516       50     50      False  325      1250000  \n",
       "585       80     25      False  350      1491750  \n",
       "594       65     45      False  340      1396500  \n",
       "789       46     28      False  396      2045160  "
      ]
     },
     "execution_count": 282,
     "metadata": {},
     "output_type": "execute_result"
    }
   ],
   "source": [
    "remove_outliers = ordinary_pokemon[ordinary_pokemon['Сomposition'].between(ordinary_pokemon_stat.loc['lower_bound ','Сomposition'], ordinary_pokemon_stat.loc['upper_bound ','Сomposition'], inclusive=True)].sort_values('Сomposition')\n",
    "remove_outliers\n",
    "remove_op_comp = pd.concat([ordinary_pokemon, remove_outliers]).drop_duplicates(keep=False)\n",
    "remove_op_comp\n",
    "#pid_remove_op_comp = remove_op_comp['pid'].to_numpy()\n",
    "#pid_remove_op_comp"
   ]
  },
  {
   "cell_type": "code",
   "execution_count": 283,
   "id": "be421aae",
   "metadata": {},
   "outputs": [
    {
     "data": {
      "image/png": "[encoded data removed]",
      "text/plain": [
       "<Figure size 432x288 with 1 Axes>"
      ]
     },
     "metadata": {
      "needs_background": "light"
     },
     "output_type": "display_data"
    }
   ],
   "source": [
    "#Исключаем выброс\n",
    "legendary_pokemon = legendary_pokemon[~legendary_pokemon['pid'].isin([425])]\n",
    "ordinary_pokemon = ordinary_pokemon[~ordinary_pokemon['pid'].isin([225,269,314,334])]\n",
    "\n",
    "#Визуализация для сравнения средних значений по сумме характеристик\n",
    "df = pd.DataFrame(list(zip(legendary_pokemon['Sum'], ordinary_pokemon['Sum'])), columns =['legendary_pokemon','ordinary_pokemon'])  \n",
    "ax = sns.boxplot(data = df, color='#dfb0e8')"
   ]
  },
  {
   "cell_type": "code",
   "execution_count": 285,
   "id": "3ab72100",
   "metadata": {},
   "outputs": [],
   "source": [
    "#Исключаем выброс\n",
    "legendary_pokemon = legendary_pokemon[~legendary_pokemon['pid'].isin([425])]\n",
    "ordinary_pokemon = ordinary_pokemon[~ordinary_pokemon['pid'].isin(pid_remove_op_comp)]\n"
   ]
  },
  {
   "cell_type": "code",
   "execution_count": 287,
   "id": "0148e9bf",
   "metadata": {},
   "outputs": [
    {
     "data": {
      "image/png": "[encoded data removed]",
      "text/plain": [
       "<Figure size 432x288 with 1 Axes>"
      ]
     },
     "metadata": {
      "needs_background": "light"
     },
     "output_type": "display_data"
    }
   ],
   "source": [
    "#Визуализациядля сравнения средних значений по произведению характеристик\n",
    "df = pd.DataFrame(list(zip(legendary_pokemon['Сomposition'], ordinary_pokemon['Сomposition'])), columns =['legendary_pokemon','ordinary_pokemon'])  \n",
    "ax = sns.boxplot(data = df, color='#b0e8d0')"
   ]
  },
  {
   "cell_type": "markdown",
   "id": "be4661ea",
   "metadata": {},
   "source": [
    "**Исходя из статистических тестов и графиков можно сделать вывод, что сумма и произведение характеристик HP,Attack,Defense у легендарных покемонов выше, чем у других покемонов**"
   ]
  }
 ],
 "metadata": {
  "kernelspec": {
   "display_name": "Python 3",
   "language": "python",
   "name": "python3"
  },
  "language_info": {
   "codemirror_mode": {
    "name": "ipython",
    "version": 3
   },
   "file_extension": ".py",
   "mimetype": "text/x-python",
   "name": "python",
   "nbconvert_exporter": "python",
   "pygments_lexer": "ipython3",
   "version": "3.8.8"
  }
 },
 "nbformat": 4,
 "nbformat_minor": 5
}
