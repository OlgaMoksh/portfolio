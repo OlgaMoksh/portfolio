{
 "cells": [
  {
   "cell_type": "markdown",
   "id": "3db219cf",
   "metadata": {},
   "source": [
    "# Проверка системы сплитования. ДЗ в рамках курса Karpov \"Симулятор аналитика\""
   ]
  },
  {
   "cell_type": "code",
   "execution_count": 1,
   "id": "ceb8b621-5ec7-45d5-8ce8-e768713461fa",
   "metadata": {},
   "outputs": [],
   "source": [
    "import pandas as pd\n",
    "import numpy as np\n",
    "import matplotlib.pyplot as plt\n",
    "import seaborn as sns\n",
    "from scipy import stats\n",
    "from read_db.CH import Getch"
   ]
  },
  {
   "cell_type": "code",
   "execution_count": 2,
   "id": "adf96cc5-8557-4315-80f8-e095e111b596",
   "metadata": {},
   "outputs": [],
   "source": [
    "#Собираем данные\n",
    "data = Getch('''\n",
    "    select user_id,\n",
    "            exp_group,\n",
    "            countIf(action = 'view') as views, \n",
    "            countIf(action = 'like') as likes, \n",
    "            likes/views as CTR\n",
    "from {db}.feed_actions \n",
    "where toDate(time) between '2021-11-08' and '2021-11-14' \n",
    "        and exp_group in (2,3)\n",
    "group by user_id, exp_group\n",
    "        ''').df"
   ]
  },
  {
   "cell_type": "code",
   "execution_count": 12,
   "id": "a2377b50-3426-43b6-bd8e-6d769119af72",
   "metadata": {},
   "outputs": [],
   "source": [
    "#напишем функцию, которая проверяет процент p values, которые меньше либо равны 0.05\n",
    "def get_pvalue(n, k, df = data, sample = 500, n_samples = 10000):\n",
    "    pvalues_list = []\n",
    "    for i in range(n_samples):\n",
    "        resample_data_n = df.CTR.loc[df.exp_group == n].sample(sample, replace = True)\n",
    "        resample_data_k = df.CTR.loc[df.exp_group == k].sample(sample, replace = True)\n",
    "        pvalues_list.append(stats.ttest_ind(resample_data_n, resample_data_k, equal_var = False)[1])\n",
    "        percentage = 100*np.array(np.array(pvalues_list) <= 0.05).sum() / len(pvalues_list)\n",
    "    sns.histplot(pvalues_list)\n",
    "    print(\"Процент p values, которые меньше либо равны 0.05, составляет {0}%\".format(percentage))"
   ]
  },
  {
   "cell_type": "code",
   "execution_count": 14,
   "id": "edabbcd2-6fdf-45ba-9356-2f634ba01a3a",
   "metadata": {},
   "outputs": [
    {
     "name": "stdout",
     "output_type": "stream",
     "text": [
      "Процент p values, которые меньше либо равны 0.05, составляет 4.88%\n"
     ]
    },
    {
     "data": {
      "image/png": "[encoded data removed]",
      "text/plain": [
       "<Figure size 432x288 with 1 Axes>"
      ]
     },
     "metadata": {
      "needs_background": "light"
     },
     "output_type": "display_data"
    }
   ],
   "source": [
    "get_pvalue(2, 3)"
   ]
  },
  {
   "cell_type": "markdown",
   "id": "b7b147b1-ed83-4f76-b950-5113926bba90",
   "metadata": {},
   "source": [
    "# **Вывод:**\n",
    "## Процент случаев, в которых нам удалось отклонить нулевую гипотезу, не превышвает 5%, а значит наша система сплитования работает корректно."
   ]
  }
 ],
 "metadata": {
  "kernelspec": {
   "display_name": "Python 3",
   "language": "python",
   "name": "python3"
  },
  "language_info": {
   "codemirror_mode": {
    "name": "ipython",
    "version": 3
   },
   "file_extension": ".py",
   "mimetype": "text/x-python",
   "name": "python",
   "nbconvert_exporter": "python",
   "pygments_lexer": "ipython3",
   "version": "3.8.8"
  }
 },
 "nbformat": 4,
 "nbformat_minor": 5
}
