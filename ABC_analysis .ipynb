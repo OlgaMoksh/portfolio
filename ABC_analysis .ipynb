{
 "cells": [
  {
   "cell_type": "markdown",
   "metadata": {
    "id": "-3oXj82JoVk_"
   },
   "source": [
    "# ABC-анализ онлайн-магазина (ДЗ в рамках курса Scypro \"Аналитик данных\")\n"
   ]
  },
  {
   "cell_type": "markdown",
   "metadata": {
    "id": "faV0k4Y6oVlC"
   },
   "source": [
    "# 🎈🍾 🎉\n",
    "\n",
    "\n",
    "\n",
    "\n",
    "\n",
    "Вы работаете в крупном онлайн-магазине, который реализует товары «всё для праздников». Вам необходимо провести ABC-анализ и выявить наиболее важные товары на основе объемов продаж и популярности. Эта информация составит план закупок на весь следующий год. "
   ]
  },
  {
   "cell_type": "markdown",
   "metadata": {
    "id": "qJTohQeUoVlC"
   },
   "source": [
    "**ABC-анализ** позволяет определить наиболее важные ресурсы компании на основе объемов продаж и прибыли.\n",
    "\n",
    "В основе ABC-анализа лежит __«Принцип Парето»: 20% ресурсов приносят 80% прибыли__. Именно этот вид анализа позволяет выделить те самые  группы товаров, ресурсов, клиентов, поставщиков и т. п., которые и приносят компании основную прибыль."
   ]
  },
  {
   "cell_type": "markdown",
   "metadata": {
    "id": "D4BBB3rsoVlC"
   },
   "source": [
    "__Задача анализа разделить товары на группы по принципу:__\n",
    "\n",
    "- А — наиболее ценные, 20% — ассортимента (номенклатура); 80% — продаж\n",
    "- В — промежуточные, 30% — ассортимента; 15% — продаж\n",
    "- С — наименее ценные, 50% — ассортимента; 5% — продаж"
   ]
  },
  {
   "cell_type": "markdown",
   "metadata": {
    "id": "IPcD8O9IoVlD"
   },
   "source": [
    "## Задание 1"
   ]
  },
  {
   "cell_type": "markdown",
   "metadata": {
    "id": "RnTNO05JoVlF"
   },
   "source": [
    "__Сохраните все данные из таблицы `products` из PostgreSQL в дата-фрейм `products` и подготовьте данные к анализу.__"
   ]
  },
  {
   "cell_type": "code",
   "execution_count": 1,
   "metadata": {
    "id": "d5azEwAaoVlF"
   },
   "outputs": [],
   "source": [
    "from postgresql_secret import pg_secret"
   ]
  },
  {
   "cell_type": "code",
   "execution_count": 2,
   "metadata": {
    "id": "B_ubls_coVlG"
   },
   "outputs": [],
   "source": [
    "import psycopg2\n",
    "\n",
    "connection = psycopg2.connect(\n",
    "                             database=pg_secret['db_name'],\n",
    "                             user=pg_secret['db_user'],\n",
    "                             password=pg_secret['db_password'],\n",
    "                             host=pg_secret['db_host'],\n",
    "                             port=pg_secret['db_port'],\n",
    "                             )\n",
    "\n",
    "cursor = connection.cursor()"
   ]
  },
  {
   "cell_type": "code",
   "execution_count": 3,
   "metadata": {
    "id": "t-Tq4rzjoVlG"
   },
   "outputs": [
    {
     "data": {
      "text/html": [
       "<div>\n",
       "<style scoped>\n",
       "    .dataframe tbody tr th:only-of-type {\n",
       "        vertical-align: middle;\n",
       "    }\n",
       "\n",
       "    .dataframe tbody tr th {\n",
       "        vertical-align: top;\n",
       "    }\n",
       "\n",
       "    .dataframe thead th {\n",
       "        text-align: right;\n",
       "    }\n",
       "</style>\n",
       "<table border=\"1\" class=\"dataframe\">\n",
       "  <thead>\n",
       "    <tr style=\"text-align: right;\">\n",
       "      <th></th>\n",
       "      <th>invoice_id</th>\n",
       "      <th>stock_code</th>\n",
       "      <th>description</th>\n",
       "      <th>quantity</th>\n",
       "      <th>price</th>\n",
       "    </tr>\n",
       "  </thead>\n",
       "  <tbody>\n",
       "    <tr>\n",
       "      <th>0</th>\n",
       "      <td>563031</td>\n",
       "      <td>20725</td>\n",
       "      <td>LUNCH BAG RED RETROSPOT</td>\n",
       "      <td>2</td>\n",
       "      <td>1.65</td>\n",
       "    </tr>\n",
       "    <tr>\n",
       "      <th>1</th>\n",
       "      <td>563031</td>\n",
       "      <td>20728</td>\n",
       "      <td>LUNCH BAG CARS BLUE</td>\n",
       "      <td>2</td>\n",
       "      <td>1.65</td>\n",
       "    </tr>\n",
       "    <tr>\n",
       "      <th>2</th>\n",
       "      <td>563031</td>\n",
       "      <td>23207</td>\n",
       "      <td>LUNCH BAG ALPHABET DESIGN</td>\n",
       "      <td>2</td>\n",
       "      <td>1.65</td>\n",
       "    </tr>\n",
       "    <tr>\n",
       "      <th>3</th>\n",
       "      <td>563031</td>\n",
       "      <td>84596F</td>\n",
       "      <td>SMALL MARSHMALLOWS PINK BOWL</td>\n",
       "      <td>2</td>\n",
       "      <td>0.42</td>\n",
       "    </tr>\n",
       "    <tr>\n",
       "      <th>4</th>\n",
       "      <td>563031</td>\n",
       "      <td>84596B</td>\n",
       "      <td>SMALL DOLLY MIX DESIGN ORANGE BOWL</td>\n",
       "      <td>2</td>\n",
       "      <td>0.42</td>\n",
       "    </tr>\n",
       "  </tbody>\n",
       "</table>\n",
       "</div>"
      ],
      "text/plain": [
       "   invoice_id stock_code                         description  quantity price\n",
       "0      563031      20725             LUNCH BAG RED RETROSPOT         2  1.65\n",
       "1      563031      20728                 LUNCH BAG CARS BLUE         2  1.65\n",
       "2      563031      23207           LUNCH BAG ALPHABET DESIGN         2  1.65\n",
       "3      563031     84596F        SMALL MARSHMALLOWS PINK BOWL         2  0.42\n",
       "4      563031     84596B  SMALL DOLLY MIX DESIGN ORANGE BOWL         2  0.42"
      ]
     },
     "execution_count": 3,
     "metadata": {},
     "output_type": "execute_result"
    }
   ],
   "source": [
    "import pandas as pd\n",
    "\n",
    "query = \"\"\"SELECT * \n",
    "           FROM products\"\"\"\n",
    "\n",
    "cursor.execute(query)            # Сделаем запрос\n",
    "result = cursor.fetchall()  # Запросим все строки, получим результат в виде списка кортежей\n",
    "\n",
    "#cursor.description #узнаем имена колонок\n",
    "\n",
    "\n",
    "columns = [] # В этот список будем сохранять названия колонок\n",
    "for desc in cursor.description:  \n",
    "    columns.append(desc[0])      # Названия колонок возьмем из первого элемента cursor.description\n",
    "\n",
    "    \n",
    "products = pd.DataFrame(result, columns=columns)  # Из списка кортежей сделаем датафрейм\n",
    "products.head()"
   ]
  },
  {
   "cell_type": "code",
   "execution_count": 4,
   "metadata": {},
   "outputs": [
    {
     "name": "stdout",
     "output_type": "stream",
     "text": [
      "<class 'pandas.core.frame.DataFrame'>\n",
      "RangeIndex: 779495 entries, 0 to 779494\n",
      "Data columns (total 5 columns):\n",
      " #   Column       Non-Null Count   Dtype \n",
      "---  ------       --------------   ----- \n",
      " 0   invoice_id   779495 non-null  int64 \n",
      " 1   stock_code   779495 non-null  object\n",
      " 2   description  779495 non-null  object\n",
      " 3   quantity     779495 non-null  int64 \n",
      " 4   price        779495 non-null  object\n",
      "dtypes: int64(2), object(3)\n",
      "memory usage: 29.7+ MB\n"
     ]
    }
   ],
   "source": [
    "products.info()"
   ]
  },
  {
   "cell_type": "code",
   "execution_count": 5,
   "metadata": {},
   "outputs": [],
   "source": [
    "#меняем типы данных\n",
    "products['stock_code'] = products['stock_code'].astype('str')\n",
    "products['description'] = products['description'].astype('str')\n",
    "products['price'] = products['price'].astype('float64')"
   ]
  },
  {
   "cell_type": "code",
   "execution_count": 6,
   "metadata": {},
   "outputs": [
    {
     "name": "stdout",
     "output_type": "stream",
     "text": [
      "<class 'pandas.core.frame.DataFrame'>\n",
      "RangeIndex: 779495 entries, 0 to 779494\n",
      "Data columns (total 5 columns):\n",
      " #   Column       Non-Null Count   Dtype  \n",
      "---  ------       --------------   -----  \n",
      " 0   invoice_id   779495 non-null  int64  \n",
      " 1   stock_code   779495 non-null  object \n",
      " 2   description  779495 non-null  object \n",
      " 3   quantity     779495 non-null  int64  \n",
      " 4   price        779495 non-null  float64\n",
      "dtypes: float64(1), int64(2), object(2)\n",
      "memory usage: 29.7+ MB\n"
     ]
    }
   ],
   "source": [
    "products.info()"
   ]
  },
  {
   "cell_type": "markdown",
   "metadata": {
    "id": "TPii4OlroVlG"
   },
   "source": [
    "## Задание 2\n",
    "\n",
    "__Посчитайте, какой доход принес каждый продукт и сколько единиц каждого продукта было продано__\n"
   ]
  },
  {
   "cell_type": "code",
   "execution_count": 7,
   "metadata": {
    "id": "HF8pL2VuoVlG"
   },
   "outputs": [],
   "source": [
    "#посчитаем стоимость\n",
    "products['total'] = products['price']*products['quantity']"
   ]
  },
  {
   "cell_type": "code",
   "execution_count": 8,
   "metadata": {
    "id": "0ZvRsuDeoVlH"
   },
   "outputs": [
    {
     "data": {
      "text/html": [
       "<div>\n",
       "<style scoped>\n",
       "    .dataframe tbody tr th:only-of-type {\n",
       "        vertical-align: middle;\n",
       "    }\n",
       "\n",
       "    .dataframe tbody tr th {\n",
       "        vertical-align: top;\n",
       "    }\n",
       "\n",
       "    .dataframe thead th {\n",
       "        text-align: right;\n",
       "    }\n",
       "</style>\n",
       "<table border=\"1\" class=\"dataframe\">\n",
       "  <thead>\n",
       "    <tr style=\"text-align: right;\">\n",
       "      <th></th>\n",
       "      <th>description</th>\n",
       "      <th>stock_code</th>\n",
       "      <th>total</th>\n",
       "    </tr>\n",
       "  </thead>\n",
       "  <tbody>\n",
       "    <tr>\n",
       "      <th>0</th>\n",
       "      <td>DOORMAT UNION JACK GUNS AND ROSES</td>\n",
       "      <td>21955</td>\n",
       "      <td>1071.25</td>\n",
       "    </tr>\n",
       "    <tr>\n",
       "      <th>1</th>\n",
       "      <td>3 STRIPEY MICE FELTCRAFT</td>\n",
       "      <td>22150</td>\n",
       "      <td>1241.10</td>\n",
       "    </tr>\n",
       "    <tr>\n",
       "      <th>2</th>\n",
       "      <td>4 PURPLE FLOCK DINNER CANDLES</td>\n",
       "      <td>72800B</td>\n",
       "      <td>495.16</td>\n",
       "    </tr>\n",
       "    <tr>\n",
       "      <th>3</th>\n",
       "      <td>50'S CHRISTMAS GIFT BAG LARGE</td>\n",
       "      <td>23437</td>\n",
       "      <td>2272.25</td>\n",
       "    </tr>\n",
       "    <tr>\n",
       "      <th>4</th>\n",
       "      <td>ANIMAL STICKERS</td>\n",
       "      <td>16011</td>\n",
       "      <td>80.85</td>\n",
       "    </tr>\n",
       "  </tbody>\n",
       "</table>\n",
       "</div>"
      ],
      "text/plain": [
       "                           description stock_code    total\n",
       "0    DOORMAT UNION JACK GUNS AND ROSES      21955  1071.25\n",
       "1             3 STRIPEY MICE FELTCRAFT      22150  1241.10\n",
       "2        4 PURPLE FLOCK DINNER CANDLES     72800B   495.16\n",
       "3        50'S CHRISTMAS GIFT BAG LARGE      23437  2272.25\n",
       "4                      ANIMAL STICKERS      16011    80.85"
      ]
     },
     "execution_count": 8,
     "metadata": {},
     "output_type": "execute_result"
    }
   ],
   "source": [
    "# посчитаем общий доход по каждому товару. Поскольку товары могут иметь одинаковое название, \n",
    "#то будем группировать и по названию и по id\n",
    "prod_sum = products.groupby(['description','stock_code'],as_index=False)['total'].sum()\n",
    "prod_sum.head()\n",
    "#mTable_sum.info()"
   ]
  },
  {
   "cell_type": "code",
   "execution_count": 9,
   "metadata": {
    "id": "pEkoPL_NoVlH"
   },
   "outputs": [
    {
     "data": {
      "text/html": [
       "<div>\n",
       "<style scoped>\n",
       "    .dataframe tbody tr th:only-of-type {\n",
       "        vertical-align: middle;\n",
       "    }\n",
       "\n",
       "    .dataframe tbody tr th {\n",
       "        vertical-align: top;\n",
       "    }\n",
       "\n",
       "    .dataframe thead th {\n",
       "        text-align: right;\n",
       "    }\n",
       "</style>\n",
       "<table border=\"1\" class=\"dataframe\">\n",
       "  <thead>\n",
       "    <tr style=\"text-align: right;\">\n",
       "      <th></th>\n",
       "      <th>description</th>\n",
       "      <th>stock_code</th>\n",
       "      <th>quantity</th>\n",
       "    </tr>\n",
       "  </thead>\n",
       "  <tbody>\n",
       "    <tr>\n",
       "      <th>0</th>\n",
       "      <td>DOORMAT UNION JACK GUNS AND ROSES</td>\n",
       "      <td>21955</td>\n",
       "      <td>167</td>\n",
       "    </tr>\n",
       "    <tr>\n",
       "      <th>1</th>\n",
       "      <td>3 STRIPEY MICE FELTCRAFT</td>\n",
       "      <td>22150</td>\n",
       "      <td>662</td>\n",
       "    </tr>\n",
       "    <tr>\n",
       "      <th>2</th>\n",
       "      <td>4 PURPLE FLOCK DINNER CANDLES</td>\n",
       "      <td>72800B</td>\n",
       "      <td>324</td>\n",
       "    </tr>\n",
       "    <tr>\n",
       "      <th>3</th>\n",
       "      <td>50'S CHRISTMAS GIFT BAG LARGE</td>\n",
       "      <td>23437</td>\n",
       "      <td>1885</td>\n",
       "    </tr>\n",
       "    <tr>\n",
       "      <th>4</th>\n",
       "      <td>ANIMAL STICKERS</td>\n",
       "      <td>16011</td>\n",
       "      <td>385</td>\n",
       "    </tr>\n",
       "  </tbody>\n",
       "</table>\n",
       "</div>"
      ],
      "text/plain": [
       "                           description stock_code  quantity\n",
       "0    DOORMAT UNION JACK GUNS AND ROSES      21955       167\n",
       "1             3 STRIPEY MICE FELTCRAFT      22150       662\n",
       "2        4 PURPLE FLOCK DINNER CANDLES     72800B       324\n",
       "3        50'S CHRISTMAS GIFT BAG LARGE      23437      1885\n",
       "4                      ANIMAL STICKERS      16011       385"
      ]
     },
     "execution_count": 9,
     "metadata": {},
     "output_type": "execute_result"
    }
   ],
   "source": [
    "# посчитаем общее количество проданных единиц по каждому товару\n",
    "prod_count = products.groupby(['description','stock_code'], as_index=False)['quantity'].sum()\n",
    "prod_count.head()\n",
    "#mTable_count.info()"
   ]
  },
  {
   "cell_type": "code",
   "execution_count": 10,
   "metadata": {
    "id": "XZz8YxEJoVlH"
   },
   "outputs": [
    {
     "data": {
      "text/html": [
       "<div>\n",
       "<style scoped>\n",
       "    .dataframe tbody tr th:only-of-type {\n",
       "        vertical-align: middle;\n",
       "    }\n",
       "\n",
       "    .dataframe tbody tr th {\n",
       "        vertical-align: top;\n",
       "    }\n",
       "\n",
       "    .dataframe thead th {\n",
       "        text-align: right;\n",
       "    }\n",
       "</style>\n",
       "<table border=\"1\" class=\"dataframe\">\n",
       "  <thead>\n",
       "    <tr style=\"text-align: right;\">\n",
       "      <th></th>\n",
       "      <th>description</th>\n",
       "      <th>stock_code</th>\n",
       "      <th>total</th>\n",
       "      <th>quantity</th>\n",
       "    </tr>\n",
       "  </thead>\n",
       "  <tbody>\n",
       "    <tr>\n",
       "      <th>0</th>\n",
       "      <td>DOORMAT UNION JACK GUNS AND ROSES</td>\n",
       "      <td>21955</td>\n",
       "      <td>1071.25</td>\n",
       "      <td>167</td>\n",
       "    </tr>\n",
       "    <tr>\n",
       "      <th>1</th>\n",
       "      <td>3 STRIPEY MICE FELTCRAFT</td>\n",
       "      <td>22150</td>\n",
       "      <td>1241.10</td>\n",
       "      <td>662</td>\n",
       "    </tr>\n",
       "    <tr>\n",
       "      <th>2</th>\n",
       "      <td>4 PURPLE FLOCK DINNER CANDLES</td>\n",
       "      <td>72800B</td>\n",
       "      <td>495.16</td>\n",
       "      <td>324</td>\n",
       "    </tr>\n",
       "    <tr>\n",
       "      <th>3</th>\n",
       "      <td>50'S CHRISTMAS GIFT BAG LARGE</td>\n",
       "      <td>23437</td>\n",
       "      <td>2272.25</td>\n",
       "      <td>1885</td>\n",
       "    </tr>\n",
       "    <tr>\n",
       "      <th>4</th>\n",
       "      <td>ANIMAL STICKERS</td>\n",
       "      <td>16011</td>\n",
       "      <td>80.85</td>\n",
       "      <td>385</td>\n",
       "    </tr>\n",
       "  </tbody>\n",
       "</table>\n",
       "</div>"
      ],
      "text/plain": [
       "                           description stock_code    total  quantity\n",
       "0    DOORMAT UNION JACK GUNS AND ROSES      21955  1071.25       167\n",
       "1             3 STRIPEY MICE FELTCRAFT      22150  1241.10       662\n",
       "2        4 PURPLE FLOCK DINNER CANDLES     72800B   495.16       324\n",
       "3        50'S CHRISTMAS GIFT BAG LARGE      23437  2272.25      1885\n",
       "4                      ANIMAL STICKERS      16011    80.85       385"
      ]
     },
     "execution_count": 10,
     "metadata": {},
     "output_type": "execute_result"
    }
   ],
   "source": [
    "# объединяем общие данные в одну таблицу\n",
    "prod =  pd.merge(prod_sum, prod_count, how='left', left_on=['description','stock_code'], right_on = ['description','stock_code'])\n",
    "prod.head()\n",
    "#mTable.info()"
   ]
  },
  {
   "cell_type": "markdown",
   "metadata": {
    "id": "sNrdX2bXoVlH"
   },
   "source": [
    "## Задание 3\n",
    "\n",
    "__Найди нарастающий итог по процентам__\n",
    "\n"
   ]
  },
  {
   "cell_type": "code",
   "execution_count": 11,
   "metadata": {
    "id": "WdZrwaMzoVlH"
   },
   "outputs": [
    {
     "data": {
      "text/html": [
       "<div>\n",
       "<style scoped>\n",
       "    .dataframe tbody tr th:only-of-type {\n",
       "        vertical-align: middle;\n",
       "    }\n",
       "\n",
       "    .dataframe tbody tr th {\n",
       "        vertical-align: top;\n",
       "    }\n",
       "\n",
       "    .dataframe thead th {\n",
       "        text-align: right;\n",
       "    }\n",
       "</style>\n",
       "<table border=\"1\" class=\"dataframe\">\n",
       "  <thead>\n",
       "    <tr style=\"text-align: right;\">\n",
       "      <th></th>\n",
       "      <th>description</th>\n",
       "      <th>stock_code</th>\n",
       "      <th>total</th>\n",
       "      <th>quantity</th>\n",
       "    </tr>\n",
       "  </thead>\n",
       "  <tbody>\n",
       "    <tr>\n",
       "      <th>3789</th>\n",
       "      <td>REGENCY CAKESTAND 3 TIER</td>\n",
       "      <td>22423</td>\n",
       "      <td>277656.25</td>\n",
       "      <td>24139</td>\n",
       "    </tr>\n",
       "    <tr>\n",
       "      <th>5079</th>\n",
       "      <td>WHITE HANGING HEART T-LIGHT HOLDER</td>\n",
       "      <td>85123A</td>\n",
       "      <td>247048.01</td>\n",
       "      <td>91757</td>\n",
       "    </tr>\n",
       "    <tr>\n",
       "      <th>3145</th>\n",
       "      <td>PAPER CRAFT , LITTLE BIRDIE</td>\n",
       "      <td>23843</td>\n",
       "      <td>168469.60</td>\n",
       "      <td>80995</td>\n",
       "    </tr>\n",
       "    <tr>\n",
       "      <th>2876</th>\n",
       "      <td>Manual</td>\n",
       "      <td>M</td>\n",
       "      <td>151777.67</td>\n",
       "      <td>9391</td>\n",
       "    </tr>\n",
       "    <tr>\n",
       "      <th>2405</th>\n",
       "      <td>JUMBO BAG RED RETROSPOT</td>\n",
       "      <td>85099B</td>\n",
       "      <td>134307.44</td>\n",
       "      <td>74224</td>\n",
       "    </tr>\n",
       "  </tbody>\n",
       "</table>\n",
       "</div>"
      ],
      "text/plain": [
       "                             description stock_code      total  quantity\n",
       "3789            REGENCY CAKESTAND 3 TIER      22423  277656.25     24139\n",
       "5079  WHITE HANGING HEART T-LIGHT HOLDER     85123A  247048.01     91757\n",
       "3145         PAPER CRAFT , LITTLE BIRDIE      23843  168469.60     80995\n",
       "2876                              Manual          M  151777.67      9391\n",
       "2405             JUMBO BAG RED RETROSPOT     85099B  134307.44     74224"
      ]
     },
     "execution_count": 11,
     "metadata": {},
     "output_type": "execute_result"
    }
   ],
   "source": [
    "# отсортируем дата-фрейм по убыванию выручки и количества товаров\n",
    "#prod.sort_values(['total', 'quantity'], ascending=[False, False], inplace=True)\n",
    "\n",
    "#отсортируем дата-фрейм по доходу\n",
    "prod.sort_values('total', ascending= False, inplace=True)\n",
    "prod.head()"
   ]
  },
  {
   "cell_type": "code",
   "execution_count": 12,
   "metadata": {
    "id": "1d9E9cC9oVlI"
   },
   "outputs": [
    {
     "data": {
      "text/html": [
       "<div>\n",
       "<style scoped>\n",
       "    .dataframe tbody tr th:only-of-type {\n",
       "        vertical-align: middle;\n",
       "    }\n",
       "\n",
       "    .dataframe tbody tr th {\n",
       "        vertical-align: top;\n",
       "    }\n",
       "\n",
       "    .dataframe thead th {\n",
       "        text-align: right;\n",
       "    }\n",
       "</style>\n",
       "<table border=\"1\" class=\"dataframe\">\n",
       "  <thead>\n",
       "    <tr style=\"text-align: right;\">\n",
       "      <th></th>\n",
       "      <th>description</th>\n",
       "      <th>stock_code</th>\n",
       "      <th>total</th>\n",
       "      <th>quantity</th>\n",
       "      <th>percentage_total</th>\n",
       "    </tr>\n",
       "  </thead>\n",
       "  <tbody>\n",
       "    <tr>\n",
       "      <th>3789</th>\n",
       "      <td>REGENCY CAKESTAND 3 TIER</td>\n",
       "      <td>22423</td>\n",
       "      <td>277656.25</td>\n",
       "      <td>24139</td>\n",
       "      <td>1.598040</td>\n",
       "    </tr>\n",
       "    <tr>\n",
       "      <th>5079</th>\n",
       "      <td>WHITE HANGING HEART T-LIGHT HOLDER</td>\n",
       "      <td>85123A</td>\n",
       "      <td>247048.01</td>\n",
       "      <td>91757</td>\n",
       "      <td>1.421875</td>\n",
       "    </tr>\n",
       "    <tr>\n",
       "      <th>3145</th>\n",
       "      <td>PAPER CRAFT , LITTLE BIRDIE</td>\n",
       "      <td>23843</td>\n",
       "      <td>168469.60</td>\n",
       "      <td>80995</td>\n",
       "      <td>0.969620</td>\n",
       "    </tr>\n",
       "    <tr>\n",
       "      <th>2876</th>\n",
       "      <td>Manual</td>\n",
       "      <td>M</td>\n",
       "      <td>151777.67</td>\n",
       "      <td>9391</td>\n",
       "      <td>0.873550</td>\n",
       "    </tr>\n",
       "    <tr>\n",
       "      <th>2405</th>\n",
       "      <td>JUMBO BAG RED RETROSPOT</td>\n",
       "      <td>85099B</td>\n",
       "      <td>134307.44</td>\n",
       "      <td>74224</td>\n",
       "      <td>0.773001</td>\n",
       "    </tr>\n",
       "  </tbody>\n",
       "</table>\n",
       "</div>"
      ],
      "text/plain": [
       "                             description stock_code      total  quantity  \\\n",
       "3789            REGENCY CAKESTAND 3 TIER      22423  277656.25     24139   \n",
       "5079  WHITE HANGING HEART T-LIGHT HOLDER     85123A  247048.01     91757   \n",
       "3145         PAPER CRAFT , LITTLE BIRDIE      23843  168469.60     80995   \n",
       "2876                              Manual          M  151777.67      9391   \n",
       "2405             JUMBO BAG RED RETROSPOT     85099B  134307.44     74224   \n",
       "\n",
       "      percentage_total  \n",
       "3789          1.598040  \n",
       "5079          1.421875  \n",
       "3145          0.969620  \n",
       "2876          0.873550  \n",
       "2405          0.773001  "
      ]
     },
     "execution_count": 12,
     "metadata": {},
     "output_type": "execute_result"
    }
   ],
   "source": [
    "# найдем процент дохода для каждого товара \n",
    "prod['percentage_total'] = 100*prod['total'] /  prod['total'].sum()\n",
    "prod.head()"
   ]
  },
  {
   "cell_type": "code",
   "execution_count": 13,
   "metadata": {
    "id": "tKDduqtmoVlI"
   },
   "outputs": [
    {
     "data": {
      "text/html": [
       "<div>\n",
       "<style scoped>\n",
       "    .dataframe tbody tr th:only-of-type {\n",
       "        vertical-align: middle;\n",
       "    }\n",
       "\n",
       "    .dataframe tbody tr th {\n",
       "        vertical-align: top;\n",
       "    }\n",
       "\n",
       "    .dataframe thead th {\n",
       "        text-align: right;\n",
       "    }\n",
       "</style>\n",
       "<table border=\"1\" class=\"dataframe\">\n",
       "  <thead>\n",
       "    <tr style=\"text-align: right;\">\n",
       "      <th></th>\n",
       "      <th>description</th>\n",
       "      <th>stock_code</th>\n",
       "      <th>total</th>\n",
       "      <th>quantity</th>\n",
       "      <th>percentage_total</th>\n",
       "      <th>running_total</th>\n",
       "    </tr>\n",
       "  </thead>\n",
       "  <tbody>\n",
       "    <tr>\n",
       "      <th>3789</th>\n",
       "      <td>REGENCY CAKESTAND 3 TIER</td>\n",
       "      <td>22423</td>\n",
       "      <td>277656.25</td>\n",
       "      <td>24139</td>\n",
       "      <td>1.598040</td>\n",
       "      <td>1.598040</td>\n",
       "    </tr>\n",
       "    <tr>\n",
       "      <th>5079</th>\n",
       "      <td>WHITE HANGING HEART T-LIGHT HOLDER</td>\n",
       "      <td>85123A</td>\n",
       "      <td>247048.01</td>\n",
       "      <td>91757</td>\n",
       "      <td>1.421875</td>\n",
       "      <td>3.019915</td>\n",
       "    </tr>\n",
       "    <tr>\n",
       "      <th>3145</th>\n",
       "      <td>PAPER CRAFT , LITTLE BIRDIE</td>\n",
       "      <td>23843</td>\n",
       "      <td>168469.60</td>\n",
       "      <td>80995</td>\n",
       "      <td>0.969620</td>\n",
       "      <td>3.989535</td>\n",
       "    </tr>\n",
       "    <tr>\n",
       "      <th>2876</th>\n",
       "      <td>Manual</td>\n",
       "      <td>M</td>\n",
       "      <td>151777.67</td>\n",
       "      <td>9391</td>\n",
       "      <td>0.873550</td>\n",
       "      <td>4.863085</td>\n",
       "    </tr>\n",
       "    <tr>\n",
       "      <th>2405</th>\n",
       "      <td>JUMBO BAG RED RETROSPOT</td>\n",
       "      <td>85099B</td>\n",
       "      <td>134307.44</td>\n",
       "      <td>74224</td>\n",
       "      <td>0.773001</td>\n",
       "      <td>5.636086</td>\n",
       "    </tr>\n",
       "  </tbody>\n",
       "</table>\n",
       "</div>"
      ],
      "text/plain": [
       "                             description stock_code      total  quantity  \\\n",
       "3789            REGENCY CAKESTAND 3 TIER      22423  277656.25     24139   \n",
       "5079  WHITE HANGING HEART T-LIGHT HOLDER     85123A  247048.01     91757   \n",
       "3145         PAPER CRAFT , LITTLE BIRDIE      23843  168469.60     80995   \n",
       "2876                              Manual          M  151777.67      9391   \n",
       "2405             JUMBO BAG RED RETROSPOT     85099B  134307.44     74224   \n",
       "\n",
       "      percentage_total  running_total  \n",
       "3789          1.598040       1.598040  \n",
       "5079          1.421875       3.019915  \n",
       "3145          0.969620       3.989535  \n",
       "2876          0.873550       4.863085  \n",
       "2405          0.773001       5.636086  "
      ]
     },
     "execution_count": 13,
     "metadata": {},
     "output_type": "execute_result"
    }
   ],
   "source": [
    "# рассчитаем кумулятивной суммы\n",
    "prod['running_total']  = prod['percentage_total'].cumsum()\n",
    "prod.head()"
   ]
  },
  {
   "cell_type": "markdown",
   "metadata": {
    "id": "kM4OXMDXoVlI"
   },
   "source": [
    "## Задание 4\n",
    "\n",
    "__Пометь товары метками `'A'`, `'B'`, `'C'` в зависимости от нарастающего итога__\n"
   ]
  },
  {
   "cell_type": "code",
   "execution_count": 14,
   "metadata": {
    "id": "3i9wyQQpoVlI"
   },
   "outputs": [],
   "source": [
    "def revenue(x):\n",
    "    if x <= 80:\n",
    "        return 'A'\n",
    "    elif 80 < x <= 95:\n",
    "        return 'B'\n",
    "    else:\n",
    "        return 'C'\n",
    "\n",
    "prod['revenue'] = prod['running_total'].apply(revenue)"
   ]
  },
  {
   "cell_type": "code",
   "execution_count": 15,
   "metadata": {},
   "outputs": [
    {
     "data": {
      "text/html": [
       "<div>\n",
       "<style scoped>\n",
       "    .dataframe tbody tr th:only-of-type {\n",
       "        vertical-align: middle;\n",
       "    }\n",
       "\n",
       "    .dataframe tbody tr th {\n",
       "        vertical-align: top;\n",
       "    }\n",
       "\n",
       "    .dataframe thead th {\n",
       "        text-align: right;\n",
       "    }\n",
       "</style>\n",
       "<table border=\"1\" class=\"dataframe\">\n",
       "  <thead>\n",
       "    <tr style=\"text-align: right;\">\n",
       "      <th></th>\n",
       "      <th>description</th>\n",
       "      <th>stock_code</th>\n",
       "      <th>total</th>\n",
       "      <th>quantity</th>\n",
       "      <th>percentage_total</th>\n",
       "      <th>running_total</th>\n",
       "      <th>revenue</th>\n",
       "    </tr>\n",
       "  </thead>\n",
       "  <tbody>\n",
       "    <tr>\n",
       "      <th>3789</th>\n",
       "      <td>REGENCY CAKESTAND 3 TIER</td>\n",
       "      <td>22423</td>\n",
       "      <td>277656.25</td>\n",
       "      <td>24139</td>\n",
       "      <td>1.598040</td>\n",
       "      <td>1.598040</td>\n",
       "      <td>A</td>\n",
       "    </tr>\n",
       "    <tr>\n",
       "      <th>5079</th>\n",
       "      <td>WHITE HANGING HEART T-LIGHT HOLDER</td>\n",
       "      <td>85123A</td>\n",
       "      <td>247048.01</td>\n",
       "      <td>91757</td>\n",
       "      <td>1.421875</td>\n",
       "      <td>3.019915</td>\n",
       "      <td>A</td>\n",
       "    </tr>\n",
       "    <tr>\n",
       "      <th>3145</th>\n",
       "      <td>PAPER CRAFT , LITTLE BIRDIE</td>\n",
       "      <td>23843</td>\n",
       "      <td>168469.60</td>\n",
       "      <td>80995</td>\n",
       "      <td>0.969620</td>\n",
       "      <td>3.989535</td>\n",
       "      <td>A</td>\n",
       "    </tr>\n",
       "    <tr>\n",
       "      <th>2876</th>\n",
       "      <td>Manual</td>\n",
       "      <td>M</td>\n",
       "      <td>151777.67</td>\n",
       "      <td>9391</td>\n",
       "      <td>0.873550</td>\n",
       "      <td>4.863085</td>\n",
       "      <td>A</td>\n",
       "    </tr>\n",
       "    <tr>\n",
       "      <th>2405</th>\n",
       "      <td>JUMBO BAG RED RETROSPOT</td>\n",
       "      <td>85099B</td>\n",
       "      <td>134307.44</td>\n",
       "      <td>74224</td>\n",
       "      <td>0.773001</td>\n",
       "      <td>5.636086</td>\n",
       "      <td>A</td>\n",
       "    </tr>\n",
       "  </tbody>\n",
       "</table>\n",
       "</div>"
      ],
      "text/plain": [
       "                             description stock_code      total  quantity  \\\n",
       "3789            REGENCY CAKESTAND 3 TIER      22423  277656.25     24139   \n",
       "5079  WHITE HANGING HEART T-LIGHT HOLDER     85123A  247048.01     91757   \n",
       "3145         PAPER CRAFT , LITTLE BIRDIE      23843  168469.60     80995   \n",
       "2876                              Manual          M  151777.67      9391   \n",
       "2405             JUMBO BAG RED RETROSPOT     85099B  134307.44     74224   \n",
       "\n",
       "      percentage_total  running_total revenue  \n",
       "3789          1.598040       1.598040       A  \n",
       "5079          1.421875       3.019915       A  \n",
       "3145          0.969620       3.989535       A  \n",
       "2876          0.873550       4.863085       A  \n",
       "2405          0.773001       5.636086       A  "
      ]
     },
     "execution_count": 15,
     "metadata": {},
     "output_type": "execute_result"
    }
   ],
   "source": [
    "prod.head()"
   ]
  },
  {
   "cell_type": "markdown",
   "metadata": {
    "id": "numdHWgvoVlI"
   },
   "source": [
    "## Задание 5\n",
    "\n",
    "__Найди нарастающий итог по количеству товарных единиц и пометь товары метками `'A'`, `'B'`, `'C'`, отмечая тем самым популярность товара__\n"
   ]
  },
  {
   "cell_type": "code",
   "execution_count": 16,
   "metadata": {
    "id": "9XIzKrqUoVlJ"
   },
   "outputs": [
    {
     "data": {
      "text/html": [
       "<div>\n",
       "<style scoped>\n",
       "    .dataframe tbody tr th:only-of-type {\n",
       "        vertical-align: middle;\n",
       "    }\n",
       "\n",
       "    .dataframe tbody tr th {\n",
       "        vertical-align: top;\n",
       "    }\n",
       "\n",
       "    .dataframe thead th {\n",
       "        text-align: right;\n",
       "    }\n",
       "</style>\n",
       "<table border=\"1\" class=\"dataframe\">\n",
       "  <thead>\n",
       "    <tr style=\"text-align: right;\">\n",
       "      <th></th>\n",
       "      <th>description</th>\n",
       "      <th>stock_code</th>\n",
       "      <th>total</th>\n",
       "      <th>quantity</th>\n",
       "      <th>percentage_total</th>\n",
       "      <th>running_total</th>\n",
       "      <th>revenue</th>\n",
       "      <th>percentage_quantity</th>\n",
       "      <th>running_quantity</th>\n",
       "    </tr>\n",
       "  </thead>\n",
       "  <tbody>\n",
       "    <tr>\n",
       "      <th>5200</th>\n",
       "      <td>WORLD WAR 2 GLIDERS ASSTD DESIGNS</td>\n",
       "      <td>84077</td>\n",
       "      <td>24098.03</td>\n",
       "      <td>105185</td>\n",
       "      <td>0.138695</td>\n",
       "      <td>29.646558</td>\n",
       "      <td>A</td>\n",
       "      <td>0.999031</td>\n",
       "      <td>0.999031</td>\n",
       "    </tr>\n",
       "    <tr>\n",
       "      <th>5079</th>\n",
       "      <td>WHITE HANGING HEART T-LIGHT HOLDER</td>\n",
       "      <td>85123A</td>\n",
       "      <td>247048.01</td>\n",
       "      <td>91757</td>\n",
       "      <td>1.421875</td>\n",
       "      <td>3.019915</td>\n",
       "      <td>A</td>\n",
       "      <td>0.871494</td>\n",
       "      <td>1.870524</td>\n",
       "    </tr>\n",
       "    <tr>\n",
       "      <th>3145</th>\n",
       "      <td>PAPER CRAFT , LITTLE BIRDIE</td>\n",
       "      <td>23843</td>\n",
       "      <td>168469.60</td>\n",
       "      <td>80995</td>\n",
       "      <td>0.969620</td>\n",
       "      <td>3.989535</td>\n",
       "      <td>A</td>\n",
       "      <td>0.769278</td>\n",
       "      <td>2.639802</td>\n",
       "    </tr>\n",
       "    <tr>\n",
       "      <th>293</th>\n",
       "      <td>ASSORTED COLOUR BIRD ORNAMENT</td>\n",
       "      <td>84879</td>\n",
       "      <td>124351.86</td>\n",
       "      <td>78234</td>\n",
       "      <td>0.715702</td>\n",
       "      <td>7.069195</td>\n",
       "      <td>A</td>\n",
       "      <td>0.743054</td>\n",
       "      <td>3.382857</td>\n",
       "    </tr>\n",
       "    <tr>\n",
       "      <th>2708</th>\n",
       "      <td>MEDIUM CERAMIC TOP STORAGE JAR</td>\n",
       "      <td>23166</td>\n",
       "      <td>81416.73</td>\n",
       "      <td>77916</td>\n",
       "      <td>0.468591</td>\n",
       "      <td>8.132230</td>\n",
       "      <td>A</td>\n",
       "      <td>0.740034</td>\n",
       "      <td>4.122891</td>\n",
       "    </tr>\n",
       "  </tbody>\n",
       "</table>\n",
       "</div>"
      ],
      "text/plain": [
       "                             description stock_code      total  quantity  \\\n",
       "5200   WORLD WAR 2 GLIDERS ASSTD DESIGNS      84077   24098.03    105185   \n",
       "5079  WHITE HANGING HEART T-LIGHT HOLDER     85123A  247048.01     91757   \n",
       "3145         PAPER CRAFT , LITTLE BIRDIE      23843  168469.60     80995   \n",
       "293        ASSORTED COLOUR BIRD ORNAMENT      84879  124351.86     78234   \n",
       "2708      MEDIUM CERAMIC TOP STORAGE JAR      23166   81416.73     77916   \n",
       "\n",
       "      percentage_total  running_total revenue  percentage_quantity  \\\n",
       "5200          0.138695      29.646558       A             0.999031   \n",
       "5079          1.421875       3.019915       A             0.871494   \n",
       "3145          0.969620       3.989535       A             0.769278   \n",
       "293           0.715702       7.069195       A             0.743054   \n",
       "2708          0.468591       8.132230       A             0.740034   \n",
       "\n",
       "      running_quantity  \n",
       "5200          0.999031  \n",
       "5079          1.870524  \n",
       "3145          2.639802  \n",
       "293           3.382857  \n",
       "2708          4.122891  "
      ]
     },
     "execution_count": 16,
     "metadata": {},
     "output_type": "execute_result"
    }
   ],
   "source": [
    "#отсортируем дата-фрейм по количеству товаров\n",
    "prod.sort_values('quantity', ascending= False, inplace=True)\n",
    "\n",
    "# найдем процент количества для каждого товара \n",
    "prod['percentage_quantity'] = 100*prod['quantity'] /  prod['quantity'].sum()\n",
    "\n",
    "#рассчитаем кумулятивную сумму\n",
    "prod['running_quantity']  = prod['percentage_quantity'].cumsum()\n",
    "prod.head()\n"
   ]
  },
  {
   "cell_type": "code",
   "execution_count": 17,
   "metadata": {
    "id": "hqZWts1-oVlJ"
   },
   "outputs": [],
   "source": [
    "def quantity(x):\n",
    "    if x <= 80:\n",
    "        return 'A'\n",
    "    elif 80 < x <= 95:\n",
    "        return 'B'\n",
    "    else:\n",
    "        return 'C'\n",
    "\n",
    "prod['popularity'] = prod['running_quantity'].apply(quantity)"
   ]
  },
  {
   "cell_type": "code",
   "execution_count": 18,
   "metadata": {
    "id": "BKV4oPrGoVlJ"
   },
   "outputs": [
    {
     "data": {
      "text/html": [
       "<div>\n",
       "<style scoped>\n",
       "    .dataframe tbody tr th:only-of-type {\n",
       "        vertical-align: middle;\n",
       "    }\n",
       "\n",
       "    .dataframe tbody tr th {\n",
       "        vertical-align: top;\n",
       "    }\n",
       "\n",
       "    .dataframe thead th {\n",
       "        text-align: right;\n",
       "    }\n",
       "</style>\n",
       "<table border=\"1\" class=\"dataframe\">\n",
       "  <thead>\n",
       "    <tr style=\"text-align: right;\">\n",
       "      <th></th>\n",
       "      <th>description</th>\n",
       "      <th>stock_code</th>\n",
       "      <th>total</th>\n",
       "      <th>quantity</th>\n",
       "      <th>percentage_total</th>\n",
       "      <th>running_total</th>\n",
       "      <th>revenue</th>\n",
       "      <th>percentage_quantity</th>\n",
       "      <th>running_quantity</th>\n",
       "      <th>popularity</th>\n",
       "    </tr>\n",
       "  </thead>\n",
       "  <tbody>\n",
       "    <tr>\n",
       "      <th>5200</th>\n",
       "      <td>WORLD WAR 2 GLIDERS ASSTD DESIGNS</td>\n",
       "      <td>84077</td>\n",
       "      <td>24098.03</td>\n",
       "      <td>105185</td>\n",
       "      <td>0.138695</td>\n",
       "      <td>29.646558</td>\n",
       "      <td>A</td>\n",
       "      <td>0.999031</td>\n",
       "      <td>0.999031</td>\n",
       "      <td>A</td>\n",
       "    </tr>\n",
       "    <tr>\n",
       "      <th>5079</th>\n",
       "      <td>WHITE HANGING HEART T-LIGHT HOLDER</td>\n",
       "      <td>85123A</td>\n",
       "      <td>247048.01</td>\n",
       "      <td>91757</td>\n",
       "      <td>1.421875</td>\n",
       "      <td>3.019915</td>\n",
       "      <td>A</td>\n",
       "      <td>0.871494</td>\n",
       "      <td>1.870524</td>\n",
       "      <td>A</td>\n",
       "    </tr>\n",
       "    <tr>\n",
       "      <th>3145</th>\n",
       "      <td>PAPER CRAFT , LITTLE BIRDIE</td>\n",
       "      <td>23843</td>\n",
       "      <td>168469.60</td>\n",
       "      <td>80995</td>\n",
       "      <td>0.969620</td>\n",
       "      <td>3.989535</td>\n",
       "      <td>A</td>\n",
       "      <td>0.769278</td>\n",
       "      <td>2.639802</td>\n",
       "      <td>A</td>\n",
       "    </tr>\n",
       "    <tr>\n",
       "      <th>293</th>\n",
       "      <td>ASSORTED COLOUR BIRD ORNAMENT</td>\n",
       "      <td>84879</td>\n",
       "      <td>124351.86</td>\n",
       "      <td>78234</td>\n",
       "      <td>0.715702</td>\n",
       "      <td>7.069195</td>\n",
       "      <td>A</td>\n",
       "      <td>0.743054</td>\n",
       "      <td>3.382857</td>\n",
       "      <td>A</td>\n",
       "    </tr>\n",
       "    <tr>\n",
       "      <th>2708</th>\n",
       "      <td>MEDIUM CERAMIC TOP STORAGE JAR</td>\n",
       "      <td>23166</td>\n",
       "      <td>81416.73</td>\n",
       "      <td>77916</td>\n",
       "      <td>0.468591</td>\n",
       "      <td>8.132230</td>\n",
       "      <td>A</td>\n",
       "      <td>0.740034</td>\n",
       "      <td>4.122891</td>\n",
       "      <td>A</td>\n",
       "    </tr>\n",
       "  </tbody>\n",
       "</table>\n",
       "</div>"
      ],
      "text/plain": [
       "                             description stock_code      total  quantity  \\\n",
       "5200   WORLD WAR 2 GLIDERS ASSTD DESIGNS      84077   24098.03    105185   \n",
       "5079  WHITE HANGING HEART T-LIGHT HOLDER     85123A  247048.01     91757   \n",
       "3145         PAPER CRAFT , LITTLE BIRDIE      23843  168469.60     80995   \n",
       "293        ASSORTED COLOUR BIRD ORNAMENT      84879  124351.86     78234   \n",
       "2708      MEDIUM CERAMIC TOP STORAGE JAR      23166   81416.73     77916   \n",
       "\n",
       "      percentage_total  running_total revenue  percentage_quantity  \\\n",
       "5200          0.138695      29.646558       A             0.999031   \n",
       "5079          1.421875       3.019915       A             0.871494   \n",
       "3145          0.969620       3.989535       A             0.769278   \n",
       "293           0.715702       7.069195       A             0.743054   \n",
       "2708          0.468591       8.132230       A             0.740034   \n",
       "\n",
       "      running_quantity popularity  \n",
       "5200          0.999031          A  \n",
       "5079          1.870524          A  \n",
       "3145          2.639802          A  \n",
       "293           3.382857          A  \n",
       "2708          4.122891          A  "
      ]
     },
     "execution_count": 18,
     "metadata": {},
     "output_type": "execute_result"
    }
   ],
   "source": [
    "prod.head()"
   ]
  },
  {
   "cell_type": "markdown",
   "metadata": {
    "id": "GpdRHaB1oVlJ"
   },
   "source": [
    "## Задание 6\n",
    "\n",
    "__Объедини группы и проанализируй__\n"
   ]
  },
  {
   "cell_type": "code",
   "execution_count": 19,
   "metadata": {
    "id": "iN0Qnm0ZoVlJ"
   },
   "outputs": [
    {
     "data": {
      "text/plain": [
       "CC    2419\n",
       "AA     776\n",
       "BB     636\n",
       "BC     412\n",
       "CB     327\n",
       "BA     319\n",
       "AB     288\n",
       "AC      74\n",
       "CA      64\n",
       "Name: group, dtype: int64"
      ]
     },
     "execution_count": 19,
     "metadata": {},
     "output_type": "execute_result"
    }
   ],
   "source": [
    "prod['group'] = prod['revenue'] + prod['popularity'] #создаем серию с с объединенным столбцом отметок популярности и доходности товаров\n",
    "prod['group'].value_counts() #считаем количество вхождений каждой группы"
   ]
  },
  {
   "cell_type": "markdown",
   "metadata": {},
   "source": [
    "# **Выводы**\n",
    "Чаще всего встречаются группы товаров, которые приносят мало дохода и наименее популярны (группа СС).\n",
    "\n",
    "При этом на втором месте по частоте - группы товаров, которые приносят основной доход и наиболее популярны (группа AA)\n"
   ]
  },
  {
   "cell_type": "markdown",
   "metadata": {},
   "source": [
    "*На каких группах товаров нужно сфокусироваться при составлении плана закупок?*\n",
    "\n",
    "Наверное, на тех, которые наиболее популярны и приносят основной доход (группа AA)"
   ]
  },
  {
   "cell_type": "markdown",
   "metadata": {
    "id": "9Iiu8wnDoVlK"
   },
   "source": [
    "## Задание 7\n",
    "\n",
    "__Выгрузи данные по товарам с меткой по ABC-анализу__\n"
   ]
  },
  {
   "cell_type": "code",
   "execution_count": 20,
   "metadata": {},
   "outputs": [
    {
     "data": {
      "text/html": [
       "<div>\n",
       "<style scoped>\n",
       "    .dataframe tbody tr th:only-of-type {\n",
       "        vertical-align: middle;\n",
       "    }\n",
       "\n",
       "    .dataframe tbody tr th {\n",
       "        vertical-align: top;\n",
       "    }\n",
       "\n",
       "    .dataframe thead th {\n",
       "        text-align: right;\n",
       "    }\n",
       "</style>\n",
       "<table border=\"1\" class=\"dataframe\">\n",
       "  <thead>\n",
       "    <tr style=\"text-align: right;\">\n",
       "      <th></th>\n",
       "      <th>ABC-код</th>\n",
       "      <th>Описание</th>\n",
       "      <th>ID</th>\n",
       "    </tr>\n",
       "  </thead>\n",
       "  <tbody>\n",
       "    <tr>\n",
       "      <th>0</th>\n",
       "      <td>AA</td>\n",
       "      <td>WORLD WAR 2 GLIDERS ASSTD DESIGNS</td>\n",
       "      <td>563073</td>\n",
       "    </tr>\n",
       "    <tr>\n",
       "      <th>1</th>\n",
       "      <td>AA</td>\n",
       "      <td>WORLD WAR 2 GLIDERS ASSTD DESIGNS</td>\n",
       "      <td>563112</td>\n",
       "    </tr>\n",
       "    <tr>\n",
       "      <th>2</th>\n",
       "      <td>AA</td>\n",
       "      <td>WORLD WAR 2 GLIDERS ASSTD DESIGNS</td>\n",
       "      <td>563238</td>\n",
       "    </tr>\n",
       "    <tr>\n",
       "      <th>3</th>\n",
       "      <td>AA</td>\n",
       "      <td>WORLD WAR 2 GLIDERS ASSTD DESIGNS</td>\n",
       "      <td>563427</td>\n",
       "    </tr>\n",
       "    <tr>\n",
       "      <th>4</th>\n",
       "      <td>AA</td>\n",
       "      <td>WORLD WAR 2 GLIDERS ASSTD DESIGNS</td>\n",
       "      <td>563437</td>\n",
       "    </tr>\n",
       "  </tbody>\n",
       "</table>\n",
       "</div>"
      ],
      "text/plain": [
       "  ABC-код                           Описание      ID\n",
       "0      AA  WORLD WAR 2 GLIDERS ASSTD DESIGNS  563073\n",
       "1      AA  WORLD WAR 2 GLIDERS ASSTD DESIGNS  563112\n",
       "2      AA  WORLD WAR 2 GLIDERS ASSTD DESIGNS  563238\n",
       "3      AA  WORLD WAR 2 GLIDERS ASSTD DESIGNS  563427\n",
       "4      AA  WORLD WAR 2 GLIDERS ASSTD DESIGNS  563437"
      ]
     },
     "execution_count": 20,
     "metadata": {},
     "output_type": "execute_result"
    }
   ],
   "source": [
    "abc_analysis_merged = pd.merge(prod, \n",
    "                     products, \n",
    "                     on='stock_code',  \n",
    "                     how='inner')\n",
    "abc_analysis_merged.rename(columns={\"group\": \"ABC-код\", \"description_x\":\"Описание\", \"invoice_id\":\"ID\"}, inplace = True)\n",
    "\n",
    "abc_analysis = abc_analysis_merged[['ABC-код', 'Описание', 'ID']]\n",
    "abc_analysis.head()\n"
   ]
  },
  {
   "cell_type": "code",
   "execution_count": 21,
   "metadata": {},
   "outputs": [],
   "source": [
    "abc_analysis.to_csv('abc_analysis.csv', index=False)"
   ]
  }
 ],
 "metadata": {
  "colab": {
   "collapsed_sections": [],
   "name": "Skills_Python_5.1_homework.ipynb",
   "provenance": []
  },
  "kernelspec": {
   "display_name": "Python 3",
   "language": "python",
   "name": "python3"
  },
  "language_info": {
   "codemirror_mode": {
    "name": "ipython",
    "version": 3
   },
   "file_extension": ".py",
   "mimetype": "text/x-python",
   "name": "python",
   "nbconvert_exporter": "python",
   "pygments_lexer": "ipython3",
   "version": "3.8.8"
  }
 },
 "nbformat": 4,
 "nbformat_minor": 1
}
